{
 "cells": [
  {
   "cell_type": "code",
   "execution_count": 75,
   "id": "5d02bf98-8050-4ada-b0e4-308580661e12",
   "metadata": {
    "tags": []
   },
   "outputs": [],
   "source": [
    "import pandas as pd\n",
    "import os\n",
    "\n",
    "def get_df():\n",
    "    df=pd.DataFrame()\n",
    "    #os.chdir()\n",
    "    for file in os.listdir('/home/ggnicolau/Documents/TCC/bertopic-vocabulary-mismatch/data/interim/baseline/'):\n",
    "        if file.endswith('.parquet.gzip'):\n",
    "            print('hey')\n",
    "            aux=pd.read_parquet(file)\n",
    "            print('ho')\n",
    "            df=df.append(aux)\n",
    "            print('lets go')\n",
    "    return df\n",
    "\n",
    "#df=get_df()"
   ]
  },
  {
   "cell_type": "code",
   "execution_count": 96,
   "id": "9f02dde7-0ae2-4f23-96f9-a71ff0e778ba",
   "metadata": {},
   "outputs": [],
   "source": [
    "def min_max_scaling(series):\n",
    "    return (series - series.min()) / (series.max() - series.min())\n",
    "\n",
    "def z_score_standardization(series):\n",
    "    return (series - series.mean()) / series.std()"
   ]
  },
  {
   "cell_type": "code",
   "execution_count": 115,
   "id": "143c6b68-8766-4909-8e6d-a76077b43517",
   "metadata": {},
   "outputs": [],
   "source": [
    "import pandas as pd\n",
    "import os\n",
    "\n",
    "\n",
    "df_classic4=pd.read_parquet('/home/ggnicolau/Documents/TCC/bertopic-vocabulary-mismatch/data/interim/baseline/df_results_baseline_classic4.parquet.gzip').sample(400)\n",
    "df_classic4['dataset'] = 'classic4'\n",
    "df_classic4['entropy'] = z_score_standardization(df_classic4['entropy'])\n",
    "\n",
    "df_CSTR=pd.read_parquet('/home/ggnicolau/Documents/TCC/bertopic-vocabulary-mismatch/data/interim/baseline/df_results_baseline_CSTR.parquet.gzip').sample(400)\n",
    "df_CSTR['dataset'] = 'CSTR'\n",
    "df_CSTR['entropy'] = z_score_standardization(df_CSTR['entropy'])\n",
    "\n",
    "df_Dmoz_Computers=pd.read_parquet('/home/ggnicolau/Documents/TCC/bertopic-vocabulary-mismatch/data/interim/baseline/df_results_baseline_Dmoz-Computers.parquet.gzip').sample(400)\n",
    "df_Dmoz_Computers['dataset'] = 'Dmoz-Computers'\n",
    "df_Dmoz_Computers['entropy'] = z_score_standardization(df_Dmoz_Computers['entropy'])\n",
    "\n",
    "df_Dmoz_Health=pd.read_parquet('/home/ggnicolau/Documents/TCC/bertopic-vocabulary-mismatch/data/interim/baseline/df_results_baseline_Dmoz-Health.parquet.gzip').sample(400)\n",
    "df_Dmoz_Health['dataset'] = 'Dmoz-Health'\n",
    "df_Dmoz_Health['entropy'] = z_score_standardization(df_Dmoz_Health['entropy'])\n",
    "\n",
    "df_Dmoz_Science=pd.read_parquet('/home/ggnicolau/Documents/TCC/bertopic-vocabulary-mismatch/data/interim/baseline/df_results_baseline_Dmoz-Science.parquet.gzip').sample(400)\n",
    "df_Dmoz_Science['dataset'] = 'Dmoz-Science'\n",
    "df_Dmoz_Science['entropy'] = z_score_standardization(df_Dmoz_Science['entropy'])\n",
    "\n",
    "df_Dmoz_Sports=pd.read_parquet('/home/ggnicolau/Documents/TCC/bertopic-vocabulary-mismatch/data/interim/baseline/df_results_baseline_Dmoz-Sports.parquet.gzip')\n",
    "df_Dmoz_Sports['dataset'] = 'Dmoz-Sports'\n",
    "df_Dmoz_Sports['entropy'] = z_score_standardization(df_Dmoz_Sports['entropy'])\n",
    "\n",
    "\n",
    "df_Industry_Sector=pd.read_parquet('/home/ggnicolau/Documents/TCC/bertopic-vocabulary-mismatch/data/interim/baseline/df_results_baseline_Industry_Sector.parquet.gzip').sample(400)\n",
    "df_Industry_Sector['dataset'] = 'Industry_Sector'\n",
    "df_Industry_Sector['entropy'] = z_score_standardization(df_Industry_Sector['entropy'])\n",
    "\n",
    "df_NSF=pd.read_parquet('/home/ggnicolau/Documents/TCC/bertopic-vocabulary-mismatch/data/interim/baseline/df_results_baseline_NSF.parquet.gzip').sample(400)\n",
    "df_NSF['dataset'] = 'NSF'\n",
    "df_NSF['entropy'] = z_score_standardization(df_NSF['entropy'])\n",
    "\n",
    "\n",
    "df_re8=pd.read_parquet('/home/ggnicolau/Documents/TCC/bertopic-vocabulary-mismatch/data/interim/baseline/df_results_baseline_re8.parquet.gzip').sample(400)\n",
    "df_re8['dataset'] = 're8'\n",
    "df_re8['entropy'] = z_score_standardization(df_re8['entropy'])\n",
    "\n",
    "# df_webkb=pd.read_parquet('/home/ggnicolau/Documents/TCC/bertopic-vocabulary-mismatch/data/interim/baseline/df_results_baseline_webkb-parsed.parquet.gzip')\n",
    "# df_webkb['dataset'] = 'webkb-parsed'"
   ]
  },
  {
   "cell_type": "code",
   "execution_count": 120,
   "id": "2a943174-6868-468e-83d6-a2730a9ec9c8",
   "metadata": {},
   "outputs": [
    {
     "data": {
      "text/plain": [
       "(1000, 4)"
      ]
     },
     "execution_count": 120,
     "metadata": {},
     "output_type": "execute_result"
    }
   ],
   "source": [
    "pd.read_parquet('/home/ggnicolau/Documents/TCC/bertopic-vocabulary-mismatch/data/interim/baseline/df_results_baseline_classic4.parquet.gzip').shape"
   ]
  },
  {
   "cell_type": "code",
   "execution_count": 107,
   "id": "67deb252-9f6d-4de2-958e-b23fb1b9f83c",
   "metadata": {},
   "outputs": [],
   "source": [
    "#df_baseline = pd.concat([df1, df2, df3, df4, df5, df6, df7, df8, df9, df10], ignore_index=True)\n",
    "#df_baseline = pd.concat([df_classic4, df_CSTR, df_Dmoz_Computers, df_Dmoz_Health, df_Dmoz_Science, df_Industry_Sector], ignore_index=True)\n",
    "df_baseline = pd.concat([df_classic4, df_CSTR, df_Dmoz_Computers, df_Dmoz_Health, df_Dmoz_Science, df_Industry_Sector, df_re8], ignore_index=True)\n",
    "df_baseline = pd.concat([df_classic4, df_CSTR, df_Dmoz_Computers, df_Dmoz_Health, df_Dmoz_Science, df_Industry_Sector, df_re8, df_Dmoz_Sports, df_NSF], ignore_index=True)\n",
    "df_baseline['entropy'] = min_max_scaling(df_baseline['entropy'])"
   ]
  },
  {
   "cell_type": "code",
   "execution_count": 108,
   "id": "b80b1a63-2e45-42d3-b285-6c686eed5777",
   "metadata": {},
   "outputs": [
    {
     "name": "stdout",
     "output_type": "stream",
     "text": [
      "Current Working Directory  /home/ggnicolau/Documents/TCC/bertopic-vocabulary-mismatch/notebooks\n"
     ]
    }
   ],
   "source": [
    "print(\"Current Working Directory \" , os.getcwd())"
   ]
  },
  {
   "cell_type": "code",
   "execution_count": null,
   "id": "2d5efc64-c880-4b6f-9a4c-51f9d0608c3b",
   "metadata": {},
   "outputs": [],
   "source": []
  },
  {
   "cell_type": "code",
   "execution_count": null,
   "id": "67f6b550-ca49-4543-bb74-5931e15b5094",
   "metadata": {},
   "outputs": [],
   "source": []
  },
  {
   "cell_type": "code",
   "execution_count": null,
   "id": "d2f28af5-64df-4cbc-a8cc-7324b12ec527",
   "metadata": {},
   "outputs": [],
   "source": []
  },
  {
   "cell_type": "code",
   "execution_count": null,
   "id": "1025145a-cd06-4046-ada4-eef19b2ef231",
   "metadata": {},
   "outputs": [],
   "source": []
  },
  {
   "cell_type": "code",
   "execution_count": 109,
   "id": "16211ac5-24da-44db-ae97-8279d7f4628c",
   "metadata": {
    "tags": []
   },
   "outputs": [],
   "source": [
    "df_classic4=pd.read_parquet('/home/ggnicolau/Documents/TCC/bertopic-vocabulary-mismatch/data/interim/proposal/df_results_proposal_classic4.parquet.gzip').sample(400)\n",
    "df_classic4['dataset'] = 'classic4'\n",
    "df_classic4['entropy'] = z_score_standardization(df_classic4['entropy'])\n",
    "\n",
    "\n",
    "df_CSTR=pd.read_parquet('/home/ggnicolau/Documents/TCC/bertopic-vocabulary-mismatch/data/interim/proposal/df_results_proposal_CSTR_allmpnet.parquet.gzip').sample(400)\n",
    "df_CSTR['dataset'] = 'CSTR'\n",
    "df_CSTR['entropy'] = z_score_standardization(df_CSTR['entropy'])\n",
    "\n",
    "\n",
    "df_Dmoz_Computers=pd.read_parquet('/home/ggnicolau/Documents/TCC/bertopic-vocabulary-mismatch/data/interim/proposal/df_results_proposal_Dmoz-Computers_all-mpnet.parquet.gzip').sample(400)\n",
    "df_Dmoz_Computers['dataset'] = 'Dmoz-Computers'\n",
    "df_Dmoz_Computers['entropy'] = z_score_standardization(df_Dmoz_Computers['entropy'])\n",
    "\n",
    "\n",
    "df_Dmoz_Health=pd.read_parquet('/home/ggnicolau/Documents/TCC/bertopic-vocabulary-mismatch/data/interim/proposal/df_results_proposal_Dmoz-Health.parquet.gzip').sample(400)\n",
    "df_Dmoz_Health['dataset'] = 'Dmoz-Health'\n",
    "df_Dmoz_Health['entropy'] = z_score_standardization(df_Dmoz_Health['entropy'])\n",
    "\n",
    "\n",
    "df_Dmoz_Science=pd.read_parquet('/home/ggnicolau/Documents/TCC/bertopic-vocabulary-mismatch/data/interim/proposal/df_results_proposal_Dmoz-Science.parquet.gzip').sample(400)\n",
    "df_Dmoz_Science['dataset'] = 'Dmoz-Science'\n",
    "df_Dmoz_Science['entropy'] = z_score_standardization(df_Dmoz_Science['entropy'])\n",
    "\n",
    "\n",
    "df_Dmoz_Sports=pd.read_parquet('/home/ggnicolau/Documents/TCC/bertopic-vocabulary-mismatch/data/interim/proposal/df_results_proposal_Dmoz-Sports.parquet.gzip')\n",
    "df_Dmoz_Sports['dataset'] = 'Dmoz-Sports'\n",
    "df_Dmoz_Sports['entropy'] = z_score_standardization(df_Dmoz_Sports['entropy'])\n",
    "\n",
    "\n",
    "df_Industry_Sector=pd.read_parquet('/home/ggnicolau/Documents/TCC/bertopic-vocabulary-mismatch/data/interim/proposal/df_results_proposal_Industry_Sector.parquet.gzip').sample(400)\n",
    "df_Industry_Sector['dataset'] = 'Industry_Sector'\n",
    "df_Industry_Sector['entropy'] = z_score_standardization(df_Industry_Sector['entropy'])\n",
    "\n",
    "\n",
    "df_NSF=pd.read_parquet('/home/ggnicolau/Documents/TCC/bertopic-vocabulary-mismatch/data/interim/proposal/df_results_proposal_NSF.parquet.gzip').sample(400)\n",
    "df_NSF['dataset'] = 'NSF'\n",
    "df_NSF['entropy'] = z_score_standardization(df_NSF['entropy'])\n",
    "\n",
    "\n",
    "df_re8=pd.read_parquet('/home/ggnicolau/Documents/TCC/bertopic-vocabulary-mismatch/data/interim/proposal/df_results_proposal_re8.parquet.gzip').sample(400)\n",
    "df_re8['dataset'] = 're8'\n",
    "df_re8['entropy'] = z_score_standardization(df_re8['entropy'])\n",
    "\n",
    "\n",
    "# df_webkb=pd.read_parquet('/home/ggnicolau/Documents/TCC/bertopic-vocabulary-mismatch/data/interim/proposal/df_results_proposal_webkb-parsed.parquet.gzip')\n",
    "# df_webkb['dataset'] = 'webkb-parsed'"
   ]
  },
  {
   "cell_type": "code",
   "execution_count": 110,
   "id": "f20dc140-8823-4601-b2ca-a7b09884c54f",
   "metadata": {},
   "outputs": [],
   "source": [
    "#df_proposal = pd.concat([df1, df2, df3, df4, df5, df6, df7, df8, df9, df10], ignore_index=True)\n",
    "#df_proposal = pd.concat([df_classic4, df_CSTR, df_Dmoz_Computers, df_Dmoz_Health, df_Dmoz_Science, df_Industry_Sector], ignore_index=True)\n",
    "df_proposal = pd.concat([df_classic4, df_CSTR, df_Dmoz_Computers, df_Dmoz_Health, df_Dmoz_Science, df_Industry_Sector, df_re8], ignore_index=True)\n",
    "df_proposal = pd.concat([df_classic4, df_CSTR, df_Dmoz_Computers, df_Dmoz_Health, df_Dmoz_Science, df_Industry_Sector, df_re8, df_Dmoz_Sports, df_NSF], ignore_index=True)\n",
    "df_proposal['entropy'] = min_max_scaling(df_proposal['entropy'])"
   ]
  },
  {
   "cell_type": "code",
   "execution_count": 111,
   "id": "70433c4f-fa70-406a-8133-d330b81e11f1",
   "metadata": {},
   "outputs": [
    {
     "name": "stderr",
     "output_type": "stream",
     "text": [
      "/home/ggnicolau/miniconda3/envs/jupyter-1/lib/python3.10/site-packages/pandas/core/arraylike.py:364: RuntimeWarning: divide by zero encountered in log\n",
      "  result = getattr(ufunc, method)(*inputs, **kwargs)\n"
     ]
    },
    {
     "data": {
      "image/png": "[encoded data removed]",
      "text/plain": [
       "<Figure size 540x252 with 1 Axes>"
      ]
     },
     "metadata": {},
     "output_type": "display_data"
    }
   ],
   "source": [
    "import pandas as pd\n",
    "import numpy as np\n",
    "from matplotlib import pyplot as plt\n",
    "\n",
    "plt.style.use('ggplot')\n",
    "\n",
    "# Set the figure size\n",
    "plt.rcParams[\"figure.figsize\"] = [7.50, 3.50]\n",
    "plt.rcParams[\"figure.autolayout\"] = True\n",
    "\n",
    "# Pandas dataframe\n",
    "data = pd.DataFrame({\"Baseline\": np.log(df_baseline['entropy']), \"BERTopic\":  np.log(df_proposal['entropy'])})\n",
    "\n",
    "# Plot the dataframe\n",
    "ax = data[['Baseline', 'BERTopic']].plot(kind='box', title='IR entropy comparison', showfliers=False)\n",
    "\n",
    "plt.savefig('IR_entropy_comparison.png', bbox_inches='tight', dpi = 180)\n",
    "\n",
    "# Display the plot\n",
    "plt.show()"
   ]
  },
  {
   "cell_type": "code",
   "execution_count": 112,
   "id": "6232de83-c59a-4e90-a5a2-91d374425661",
   "metadata": {},
   "outputs": [
    {
     "data": {
      "text/plain": [
       "count    4200.000000\n",
       "mean        0.585505\n",
       "std         0.103279\n",
       "min         0.000000\n",
       "25%         0.555942\n",
       "50%         0.558922\n",
       "75%         0.643717\n",
       "max         1.000000\n",
       "Name: entropy, dtype: float64"
      ]
     },
     "execution_count": 112,
     "metadata": {},
     "output_type": "execute_result"
    }
   ],
   "source": [
    "df_baseline['entropy'].describe()"
   ]
  },
  {
   "cell_type": "code",
   "execution_count": 113,
   "id": "c9242840-792b-4d82-94cd-ba04fdb47f43",
   "metadata": {},
   "outputs": [
    {
     "data": {
      "text/plain": [
       "count    4200.000000\n",
       "mean        0.620254\n",
       "std         0.129136\n",
       "min         0.000000\n",
       "25%         0.544253\n",
       "50%         0.596747\n",
       "75%         0.706660\n",
       "max         1.000000\n",
       "Name: entropy, dtype: float64"
      ]
     },
     "execution_count": 113,
     "metadata": {},
     "output_type": "execute_result"
    }
   ],
   "source": [
    "df_proposal['entropy'].describe()"
   ]
  },
  {
   "cell_type": "code",
   "execution_count": null,
   "id": "5618fab6-20d1-4daf-92c0-b9949d90f91c",
   "metadata": {},
   "outputs": [],
   "source": []
  },
  {
   "cell_type": "code",
   "execution_count": null,
   "id": "e7630b17-c0bc-471a-be0e-4119d3a9f218",
   "metadata": {},
   "outputs": [],
   "source": []
  },
  {
   "cell_type": "code",
   "execution_count": 114,
   "id": "d841f6cf-f875-4f64-be30-984d65ad547a",
   "metadata": {},
   "outputs": [
    {
     "data": {
      "text/plain": [
       "(4200, 5)"
      ]
     },
     "execution_count": 114,
     "metadata": {},
     "output_type": "execute_result"
    }
   ],
   "source": [
    "df_baseline.shape"
   ]
  },
  {
   "cell_type": "code",
   "execution_count": null,
   "id": "96613511-4b5c-49ca-a1dc-736c20983bbc",
   "metadata": {},
   "outputs": [],
   "source": []
  },
  {
   "cell_type": "code",
   "execution_count": null,
   "id": "eb425026-3040-4d27-8066-afb7ec0ceb00",
   "metadata": {},
   "outputs": [],
   "source": []
  },
  {
   "cell_type": "code",
   "execution_count": null,
   "id": "b88232f0-9fc9-4e93-89a2-9729e24c78fa",
   "metadata": {},
   "outputs": [],
   "source": []
  },
  {
   "cell_type": "code",
   "execution_count": null,
   "id": "f7b41368-e1ab-40be-95fa-e0b356856b2f",
   "metadata": {},
   "outputs": [],
   "source": []
  },
  {
   "cell_type": "code",
   "execution_count": null,
   "id": "5dbddc1b-a073-4e50-803b-fd9589d098bc",
   "metadata": {},
   "outputs": [],
   "source": []
  },
  {
   "cell_type": "code",
   "execution_count": null,
   "id": "1197c088-4f96-4705-993b-8f5b59bb6973",
   "metadata": {},
   "outputs": [],
   "source": []
  },
  {
   "cell_type": "code",
   "execution_count": null,
   "id": "97bc3643-dfb7-44cb-a7c9-766343cca4d2",
   "metadata": {},
   "outputs": [],
   "source": []
  },
  {
   "cell_type": "code",
   "execution_count": null,
   "id": "8d1e77da-6123-49f2-9b60-a144542ec301",
   "metadata": {},
   "outputs": [],
   "source": []
  }
 ],
 "metadata": {
  "kernelspec": {
   "display_name": "Python 3 (ipykernel)",
   "language": "python",
   "name": "python3"
  },
  "language_info": {
   "codemirror_mode": {
    "name": "ipython",
    "version": 3
   },
   "file_extension": ".py",
   "mimetype": "text/x-python",
   "name": "python",
   "nbconvert_exporter": "python",
   "pygments_lexer": "ipython3",
   "version": "3.10.2"
  }
 },
 "nbformat": 4,
 "nbformat_minor": 5
}
