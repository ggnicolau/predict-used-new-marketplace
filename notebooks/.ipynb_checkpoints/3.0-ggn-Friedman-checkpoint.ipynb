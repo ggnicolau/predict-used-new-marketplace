{
 "cells": [
  {
   "cell_type": "markdown",
   "metadata": {
    "id": "J2QYxpofcwTw"
   },
   "source": [
    "# Teste de Friedman + Pós-teste (Nemenyi)"
   ]
  },
  {
   "cell_type": "code",
   "execution_count": 1,
   "metadata": {
    "colab": {
     "base_uri": "https://localhost:8080/",
     "height": 1000
    },
    "id": "xMpgCAcccR6B",
    "outputId": "8ebfdce6-abc6-4d18-daa8-970d70da89f7"
   },
   "outputs": [],
   "source": [
    "!pip install orange3 -q"
   ]
  },
  {
   "cell_type": "markdown",
   "metadata": {
    "id": "hCjn0NTRi1ii"
   },
   "source": [
    "# Dados de entrada do teste\n",
    "\n",
    "Uma tabela m x n\n",
    "\n",
    "m = linhas dos métodos (sugiro baseline + 2 variações da proposta mudando embeddings), totalizando 3 métodos.\n",
    "\n",
    "n = coluna dos datasets\n",
    "\n",
    "células: valores MÉDIOS das entropias"
   ]
  },
  {
   "cell_type": "code",
   "execution_count": 1,
   "metadata": {
    "id": "B5dix5bDSJZc"
   },
   "outputs": [],
   "source": [
    "import pandas as pd\n",
    "\n",
    "classic4_baseline = pd.read_parquet('../models/predictions/baseline/df_results_baseline_classic4.parquet.gzip')\n",
    "cstr_baseline = pd.read_parquet('../models/predictions/baseline/df_results_baseline_CSTR.parquet.gzip')\n",
    "dmoz_Computers_baseline = pd.read_parquet('../models/predictions/baseline/df_results_baseline_Dmoz-Computers.parquet.gzip')\n",
    "dmoz_Health_baseline = pd.read_parquet('../models/predictions/baseline/df_results_baseline_Dmoz-Health.parquet.gzip')\n",
    "dmoz_Science_baseline = pd.read_parquet('../models/predictions/baseline/df_results_baseline_Dmoz-Science.parquet.gzip')\n",
    "dmoz_Sports_baseline = pd.read_parquet('../models/predictions/baseline/df_results_baseline_Dmoz-Sports.parquet.gzip')\n",
    "industry_Sector_baseline = pd.read_parquet('../models/predictions/baseline/df_results_baseline_Industry_Sector.parquet.gzip')\n",
    "nsf_baseline = pd.read_parquet('../models/predictions/baseline/df_results_baseline_NSF.parquet.gzip')\n",
    "re8_baseline = pd.read_parquet('../models/predictions/baseline/df_results_baseline_re8.parquet.gzip')\n",
    "webkb_parsed_baseline = pd.read_parquet('../models/predictions/baseline/df_results_baseline_webkb-parsed.parquet.gzip')"
   ]
  },
  {
   "cell_type": "code",
   "execution_count": 2,
   "metadata": {},
   "outputs": [],
   "source": [
    "baseline_list = [classic4_baseline, cstr_baseline, dmoz_Computers_baseline, dmoz_Health_baseline, dmoz_Science_baseline, dmoz_Sports_baseline, industry_Sector_baseline, nsf_baseline, re8_baseline, webkb_parsed_baseline]\n",
    "baseline_names = ['classic4_baseline', 'cstr_baseline', 'dmoz_Computers_baseline', 'dmoz_Health_baseline', 'dmoz_Science_baseline', 'dmoz_Sports_baseline', 'industry_Sector_baseline', 'nsf_baseline', 're8_baseline', 'webkb_parsed_baseline']\n",
    "mean_baseline_list = []\n",
    "\n",
    "flag=0\n",
    "while flag<10:\n",
    "    x=baseline_list[flag]\n",
    "    y=x['entropy'].mean()\n",
    "    dict_1 = {f'{baseline_names[flag]}': y}\n",
    "    mean_baseline_list.append(dict_1)  \n",
    "    flag+=1\n",
    "    \n",
    "result = {}\n",
    "for dataframe in mean_baseline_list:\n",
    "   result.update(dataframe)\n",
    "\n",
    "dct = {k:[v] for k,v in result.items()}  # WORKAROUND\n",
    "df = pd.DataFrame(dct)"
   ]
  },
  {
   "cell_type": "code",
   "execution_count": 3,
   "metadata": {},
   "outputs": [],
   "source": [
    "import pandas as pd\n",
    "\n",
    "classic4_proposal = pd.read_parquet('../models/predictions/proposal/df_results_proposal_classic4.parquet.gzip')\n",
    "cstr_proposal = pd.read_parquet('../models/predictions/proposal/df_results_proposal_CSTR.parquet.gzip')\n",
    "dmoz_Computers_proposal = pd.read_parquet('../models/predictions/proposal/df_results_proposal_Dmoz-Computers.parquet.gzip')\n",
    "dmoz_Health_proposal = pd.read_parquet('../models/predictions/proposal/df_results_proposal_Dmoz-Health.parquet.gzip')\n",
    "dmoz_Science_proposal = pd.read_parquet('../models/predictions/proposal/df_results_proposal_Dmoz-Science.parquet.gzip')\n",
    "dmoz_Sports_proposal = pd.read_parquet('../models/predictions/proposal/df_results_proposal_Dmoz-Sports.parquet.gzip')\n",
    "industry_Sector_proposal = pd.read_parquet('../models/predictions/proposal/df_results_proposal_Industry_Sector.parquet.gzip')\n",
    "nsf_proposal = pd.read_parquet('../models/predictions/proposal/df_results_proposal_NSF.parquet.gzip')\n",
    "re8_proposal = pd.read_parquet('../models/predictions/proposal/df_results_proposal_re8.parquet.gzip')\n",
    "webkb_parsed_proposal = pd.read_parquet('../models/predictions/proposal/df_results_proposal_webkb-parsed.parquet.gzip')\n",
    "\n",
    "proposal_list = [classic4_proposal, cstr_proposal, dmoz_Computers_proposal, dmoz_Health_proposal, dmoz_Science_proposal, dmoz_Sports_proposal, industry_Sector_proposal, nsf_proposal, re8_proposal, webkb_parsed_proposal]"
   ]
  },
  {
   "cell_type": "code",
   "execution_count": null,
   "metadata": {},
   "outputs": [],
   "source": [
    "proposal_list = [classic4_proposal, cstr_proposal, dmoz_Computers_proposal, dmoz_Health_proposal, dmoz_Science_proposal, dmoz_Sports_proposal, industry_Sector_proposal, nsf_proposal, re8_proposal, webkb_parsed_proposal]\n",
    "proposal_names = ['classic4_proposal', 'cstr_proposal', 'dmoz_Computers_proposal', 'dmoz_Health_proposal', 'dmoz_Science_proposal', 'dmoz_Sports_proposal', 'industry_Sector_proposal', 'nsf_proposal', 're8_proposal', 'webkb_parsed_proposal']\n",
    "mean_proposal_list = []\n",
    "\n",
    "flag=0\n",
    "while flag<10:\n",
    "    x=proposal_list[flag]\n",
    "    y=x['entropy'].mean()\n",
    "    dict_1 = {f'{proposal_names[flag]}': y}\n",
    "    mean_proposal_list.append(dict_1)  \n",
    "    flag+=1\n",
    "    \n",
    "result = {}\n",
    "for dataframe in mean_proposal_list:\n",
    "   result.update(dataframe)\n",
    "\n",
    "dct = {k:[v] for k,v in result.items()}  # WORKAROUND\n",
    "df_2 = pd.DataFrame(dct)"
   ]
  },
  {
   "cell_type": "code",
   "execution_count": 87,
   "metadata": {},
   "outputs": [
    {
     "data": {
      "text/html": [
       "<div>\n",
       "<style scoped>\n",
       "    .dataframe tbody tr th:only-of-type {\n",
       "        vertical-align: middle;\n",
       "    }\n",
       "\n",
       "    .dataframe tbody tr th {\n",
       "        vertical-align: top;\n",
       "    }\n",
       "\n",
       "    .dataframe thead th {\n",
       "        text-align: right;\n",
       "    }\n",
       "</style>\n",
       "<table border=\"1\" class=\"dataframe\">\n",
       "  <thead>\n",
       "    <tr style=\"text-align: right;\">\n",
       "      <th></th>\n",
       "      <th>classic4_baseline</th>\n",
       "      <th>cstr_baseline</th>\n",
       "      <th>dmoz_Computers_baseline</th>\n",
       "      <th>dmoz_Health_baseline</th>\n",
       "      <th>dmoz_Science_baseline</th>\n",
       "      <th>dmoz_Sports_baseline</th>\n",
       "      <th>industry_Sector_baseline</th>\n",
       "      <th>nsf_baseline</th>\n",
       "      <th>re8_baseline</th>\n",
       "      <th>webkb_parsed_baseline</th>\n",
       "    </tr>\n",
       "  </thead>\n",
       "  <tbody>\n",
       "    <tr>\n",
       "      <th>0</th>\n",
       "      <td>0.496493</td>\n",
       "      <td>0.78543</td>\n",
       "      <td>0.739105</td>\n",
       "      <td>0.638945</td>\n",
       "      <td>0.766606</td>\n",
       "      <td>0.069335</td>\n",
       "      <td>0.800533</td>\n",
       "      <td>0.073768</td>\n",
       "      <td>0.221676</td>\n",
       "      <td>0.749695</td>\n",
       "    </tr>\n",
       "  </tbody>\n",
       "</table>\n",
       "</div>"
      ],
      "text/plain": [
       "   classic4_baseline  cstr_baseline  dmoz_Computers_baseline  \\\n",
       "0           0.496493        0.78543                 0.739105   \n",
       "\n",
       "   dmoz_Health_baseline  dmoz_Science_baseline  dmoz_Sports_baseline  \\\n",
       "0              0.638945               0.766606              0.069335   \n",
       "\n",
       "   industry_Sector_baseline  nsf_baseline  re8_baseline  webkb_parsed_baseline  \n",
       "0                  0.800533      0.073768      0.221676               0.749695  "
      ]
     },
     "execution_count": 87,
     "metadata": {},
     "output_type": "execute_result"
    }
   ],
   "source": [
    "df"
   ]
  },
  {
   "cell_type": "code",
   "execution_count": 85,
   "metadata": {},
   "outputs": [
    {
     "ename": "ValueError",
     "evalue": "If using all scalar values, you must pass an index",
     "output_type": "error",
     "traceback": [
      "\u001b[0;31m---------------------------------------------------------------------------\u001b[0m",
      "\u001b[0;31mValueError\u001b[0m                                Traceback (most recent call last)",
      "Input \u001b[0;32mIn [85]\u001b[0m, in \u001b[0;36m<cell line: 1>\u001b[0;34m()\u001b[0m\n\u001b[0;32m----> 1\u001b[0m \u001b[43mpd\u001b[49m\u001b[38;5;241;43m.\u001b[39;49m\u001b[43mDataFrame\u001b[49m\u001b[38;5;241;43m.\u001b[39;49m\u001b[43mfrom_dict\u001b[49m\u001b[43m(\u001b[49m\u001b[43mresult\u001b[49m\u001b[43m)\u001b[49m\n",
      "File \u001b[0;32m~/miniconda3/envs/jupyter-1/lib/python3.10/site-packages/pandas/core/frame.py:1593\u001b[0m, in \u001b[0;36mDataFrame.from_dict\u001b[0;34m(cls, data, orient, dtype, columns)\u001b[0m\n\u001b[1;32m   1590\u001b[0m \u001b[38;5;28;01melse\u001b[39;00m:  \u001b[38;5;66;03m# pragma: no cover\u001b[39;00m\n\u001b[1;32m   1591\u001b[0m     \u001b[38;5;28;01mraise\u001b[39;00m \u001b[38;5;167;01mValueError\u001b[39;00m(\u001b[38;5;124m\"\u001b[39m\u001b[38;5;124monly recognize index or columns for orient\u001b[39m\u001b[38;5;124m\"\u001b[39m)\n\u001b[0;32m-> 1593\u001b[0m \u001b[38;5;28;01mreturn\u001b[39;00m \u001b[38;5;28;43mcls\u001b[39;49m\u001b[43m(\u001b[49m\u001b[43mdata\u001b[49m\u001b[43m,\u001b[49m\u001b[43m \u001b[49m\u001b[43mindex\u001b[49m\u001b[38;5;241;43m=\u001b[39;49m\u001b[43mindex\u001b[49m\u001b[43m,\u001b[49m\u001b[43m \u001b[49m\u001b[43mcolumns\u001b[49m\u001b[38;5;241;43m=\u001b[39;49m\u001b[43mcolumns\u001b[49m\u001b[43m,\u001b[49m\u001b[43m \u001b[49m\u001b[43mdtype\u001b[49m\u001b[38;5;241;43m=\u001b[39;49m\u001b[43mdtype\u001b[49m\u001b[43m)\u001b[49m\n",
      "File \u001b[0;32m~/miniconda3/envs/jupyter-1/lib/python3.10/site-packages/pandas/core/frame.py:614\u001b[0m, in \u001b[0;36mDataFrame.__init__\u001b[0;34m(self, data, index, columns, dtype, copy)\u001b[0m\n\u001b[1;32m    608\u001b[0m     mgr \u001b[38;5;241m=\u001b[39m \u001b[38;5;28mself\u001b[39m\u001b[38;5;241m.\u001b[39m_init_mgr(\n\u001b[1;32m    609\u001b[0m         data, axes\u001b[38;5;241m=\u001b[39m{\u001b[38;5;124m\"\u001b[39m\u001b[38;5;124mindex\u001b[39m\u001b[38;5;124m\"\u001b[39m: index, \u001b[38;5;124m\"\u001b[39m\u001b[38;5;124mcolumns\u001b[39m\u001b[38;5;124m\"\u001b[39m: columns}, dtype\u001b[38;5;241m=\u001b[39mdtype, copy\u001b[38;5;241m=\u001b[39mcopy\n\u001b[1;32m    610\u001b[0m     )\n\u001b[1;32m    612\u001b[0m \u001b[38;5;28;01melif\u001b[39;00m \u001b[38;5;28misinstance\u001b[39m(data, \u001b[38;5;28mdict\u001b[39m):\n\u001b[1;32m    613\u001b[0m     \u001b[38;5;66;03m# GH#38939 de facto copy defaults to False only in non-dict cases\u001b[39;00m\n\u001b[0;32m--> 614\u001b[0m     mgr \u001b[38;5;241m=\u001b[39m \u001b[43mdict_to_mgr\u001b[49m\u001b[43m(\u001b[49m\u001b[43mdata\u001b[49m\u001b[43m,\u001b[49m\u001b[43m \u001b[49m\u001b[43mindex\u001b[49m\u001b[43m,\u001b[49m\u001b[43m \u001b[49m\u001b[43mcolumns\u001b[49m\u001b[43m,\u001b[49m\u001b[43m \u001b[49m\u001b[43mdtype\u001b[49m\u001b[38;5;241;43m=\u001b[39;49m\u001b[43mdtype\u001b[49m\u001b[43m,\u001b[49m\u001b[43m \u001b[49m\u001b[43mcopy\u001b[49m\u001b[38;5;241;43m=\u001b[39;49m\u001b[43mcopy\u001b[49m\u001b[43m,\u001b[49m\u001b[43m \u001b[49m\u001b[43mtyp\u001b[49m\u001b[38;5;241;43m=\u001b[39;49m\u001b[43mmanager\u001b[49m\u001b[43m)\u001b[49m\n\u001b[1;32m    615\u001b[0m \u001b[38;5;28;01melif\u001b[39;00m \u001b[38;5;28misinstance\u001b[39m(data, ma\u001b[38;5;241m.\u001b[39mMaskedArray):\n\u001b[1;32m    616\u001b[0m     \u001b[38;5;28;01mimport\u001b[39;00m \u001b[38;5;21;01mnumpy\u001b[39;00m\u001b[38;5;21;01m.\u001b[39;00m\u001b[38;5;21;01mma\u001b[39;00m\u001b[38;5;21;01m.\u001b[39;00m\u001b[38;5;21;01mmrecords\u001b[39;00m \u001b[38;5;28;01mas\u001b[39;00m \u001b[38;5;21;01mmrecords\u001b[39;00m\n",
      "File \u001b[0;32m~/miniconda3/envs/jupyter-1/lib/python3.10/site-packages/pandas/core/internals/construction.py:464\u001b[0m, in \u001b[0;36mdict_to_mgr\u001b[0;34m(data, index, columns, dtype, typ, copy)\u001b[0m\n\u001b[1;32m    456\u001b[0m     arrays \u001b[38;5;241m=\u001b[39m [\n\u001b[1;32m    457\u001b[0m         x\n\u001b[1;32m    458\u001b[0m         \u001b[38;5;28;01mif\u001b[39;00m \u001b[38;5;129;01mnot\u001b[39;00m \u001b[38;5;28mhasattr\u001b[39m(x, \u001b[38;5;124m\"\u001b[39m\u001b[38;5;124mdtype\u001b[39m\u001b[38;5;124m\"\u001b[39m) \u001b[38;5;129;01mor\u001b[39;00m \u001b[38;5;129;01mnot\u001b[39;00m \u001b[38;5;28misinstance\u001b[39m(x\u001b[38;5;241m.\u001b[39mdtype, ExtensionDtype)\n\u001b[1;32m    459\u001b[0m         \u001b[38;5;28;01melse\u001b[39;00m x\u001b[38;5;241m.\u001b[39mcopy()\n\u001b[1;32m    460\u001b[0m         \u001b[38;5;28;01mfor\u001b[39;00m x \u001b[38;5;129;01min\u001b[39;00m arrays\n\u001b[1;32m    461\u001b[0m     ]\n\u001b[1;32m    462\u001b[0m     \u001b[38;5;66;03m# TODO: can we get rid of the dt64tz special case above?\u001b[39;00m\n\u001b[0;32m--> 464\u001b[0m \u001b[38;5;28;01mreturn\u001b[39;00m \u001b[43marrays_to_mgr\u001b[49m\u001b[43m(\u001b[49m\n\u001b[1;32m    465\u001b[0m \u001b[43m    \u001b[49m\u001b[43marrays\u001b[49m\u001b[43m,\u001b[49m\u001b[43m \u001b[49m\u001b[43mdata_names\u001b[49m\u001b[43m,\u001b[49m\u001b[43m \u001b[49m\u001b[43mindex\u001b[49m\u001b[43m,\u001b[49m\u001b[43m \u001b[49m\u001b[43mcolumns\u001b[49m\u001b[43m,\u001b[49m\u001b[43m \u001b[49m\u001b[43mdtype\u001b[49m\u001b[38;5;241;43m=\u001b[39;49m\u001b[43mdtype\u001b[49m\u001b[43m,\u001b[49m\u001b[43m \u001b[49m\u001b[43mtyp\u001b[49m\u001b[38;5;241;43m=\u001b[39;49m\u001b[43mtyp\u001b[49m\u001b[43m,\u001b[49m\u001b[43m \u001b[49m\u001b[43mconsolidate\u001b[49m\u001b[38;5;241;43m=\u001b[39;49m\u001b[43mcopy\u001b[49m\n\u001b[1;32m    466\u001b[0m \u001b[43m\u001b[49m\u001b[43m)\u001b[49m\n",
      "File \u001b[0;32m~/miniconda3/envs/jupyter-1/lib/python3.10/site-packages/pandas/core/internals/construction.py:119\u001b[0m, in \u001b[0;36marrays_to_mgr\u001b[0;34m(arrays, arr_names, index, columns, dtype, verify_integrity, typ, consolidate)\u001b[0m\n\u001b[1;32m    116\u001b[0m \u001b[38;5;28;01mif\u001b[39;00m verify_integrity:\n\u001b[1;32m    117\u001b[0m     \u001b[38;5;66;03m# figure out the index, if necessary\u001b[39;00m\n\u001b[1;32m    118\u001b[0m     \u001b[38;5;28;01mif\u001b[39;00m index \u001b[38;5;129;01mis\u001b[39;00m \u001b[38;5;28;01mNone\u001b[39;00m:\n\u001b[0;32m--> 119\u001b[0m         index \u001b[38;5;241m=\u001b[39m \u001b[43m_extract_index\u001b[49m\u001b[43m(\u001b[49m\u001b[43marrays\u001b[49m\u001b[43m)\u001b[49m\n\u001b[1;32m    120\u001b[0m     \u001b[38;5;28;01melse\u001b[39;00m:\n\u001b[1;32m    121\u001b[0m         index \u001b[38;5;241m=\u001b[39m ensure_index(index)\n",
      "File \u001b[0;32m~/miniconda3/envs/jupyter-1/lib/python3.10/site-packages/pandas/core/internals/construction.py:625\u001b[0m, in \u001b[0;36m_extract_index\u001b[0;34m(data)\u001b[0m\n\u001b[1;32m    622\u001b[0m         raw_lengths\u001b[38;5;241m.\u001b[39mappend(\u001b[38;5;28mlen\u001b[39m(val))\n\u001b[1;32m    624\u001b[0m \u001b[38;5;28;01mif\u001b[39;00m \u001b[38;5;129;01mnot\u001b[39;00m indexes \u001b[38;5;129;01mand\u001b[39;00m \u001b[38;5;129;01mnot\u001b[39;00m raw_lengths:\n\u001b[0;32m--> 625\u001b[0m     \u001b[38;5;28;01mraise\u001b[39;00m \u001b[38;5;167;01mValueError\u001b[39;00m(\u001b[38;5;124m\"\u001b[39m\u001b[38;5;124mIf using all scalar values, you must pass an index\u001b[39m\u001b[38;5;124m\"\u001b[39m)\n\u001b[1;32m    627\u001b[0m \u001b[38;5;28;01mif\u001b[39;00m have_series:\n\u001b[1;32m    628\u001b[0m     index \u001b[38;5;241m=\u001b[39m union_indexes(indexes)\n",
      "\u001b[0;31mValueError\u001b[0m: If using all scalar values, you must pass an index"
     ]
    }
   ],
   "source": [
    "pd.DataFrame.from_dict(result)"
   ]
  },
  {
   "cell_type": "code",
   "execution_count": null,
   "metadata": {},
   "outputs": [],
   "source": []
  },
  {
   "cell_type": "code",
   "execution_count": 36,
   "metadata": {},
   "outputs": [
    {
     "data": {
      "text/plain": [
       "[{'classic4_proposal': 0.44192653765311035},\n",
       " {'classic4_proposal': 0.7767502251550286},\n",
       " {'classic4_proposal': 0.6820211564028087},\n",
       " {'classic4_proposal': 0.5708657384644058},\n",
       " {'classic4_proposal': 0.6859995528406336},\n",
       " {'classic4_proposal': 0.18820677799314747},\n",
       " {'classic4_proposal': 0.762498140836754},\n",
       " {'classic4_proposal': 0.11038333511841264},\n",
       " {'classic4_proposal': 0.21852961783276972},\n",
       " {'classic4_proposal': 0.7291316693926401},\n",
       " {'cstr_proposal': 0.44192653765311035},\n",
       " {'cstr_proposal': 0.7767502251550286},\n",
       " {'cstr_proposal': 0.6820211564028087},\n",
       " {'cstr_proposal': 0.5708657384644058},\n",
       " {'cstr_proposal': 0.6859995528406336},\n",
       " {'cstr_proposal': 0.18820677799314747},\n",
       " {'cstr_proposal': 0.762498140836754},\n",
       " {'cstr_proposal': 0.11038333511841264},\n",
       " {'cstr_proposal': 0.21852961783276972},\n",
       " {'cstr_proposal': 0.7291316693926401},\n",
       " {'dmoz_Computers_proposal': 0.44192653765311035},\n",
       " {'dmoz_Computers_proposal': 0.7767502251550286},\n",
       " {'dmoz_Computers_proposal': 0.6820211564028087},\n",
       " {'dmoz_Computers_proposal': 0.5708657384644058},\n",
       " {'dmoz_Computers_proposal': 0.6859995528406336},\n",
       " {'dmoz_Computers_proposal': 0.18820677799314747},\n",
       " {'dmoz_Computers_proposal': 0.762498140836754},\n",
       " {'dmoz_Computers_proposal': 0.11038333511841264},\n",
       " {'dmoz_Computers_proposal': 0.21852961783276972},\n",
       " {'dmoz_Computers_proposal': 0.7291316693926401},\n",
       " {'dmoz_Health_proposal': 0.44192653765311035},\n",
       " {'dmoz_Health_proposal': 0.7767502251550286},\n",
       " {'dmoz_Health_proposal': 0.6820211564028087},\n",
       " {'dmoz_Health_proposal': 0.5708657384644058},\n",
       " {'dmoz_Health_proposal': 0.6859995528406336},\n",
       " {'dmoz_Health_proposal': 0.18820677799314747},\n",
       " {'dmoz_Health_proposal': 0.762498140836754},\n",
       " {'dmoz_Health_proposal': 0.11038333511841264},\n",
       " {'dmoz_Health_proposal': 0.21852961783276972},\n",
       " {'dmoz_Health_proposal': 0.7291316693926401},\n",
       " {'dmoz_Science_proposal': 0.44192653765311035},\n",
       " {'dmoz_Science_proposal': 0.7767502251550286},\n",
       " {'dmoz_Science_proposal': 0.6820211564028087},\n",
       " {'dmoz_Science_proposal': 0.5708657384644058},\n",
       " {'dmoz_Science_proposal': 0.6859995528406336},\n",
       " {'dmoz_Science_proposal': 0.18820677799314747},\n",
       " {'dmoz_Science_proposal': 0.762498140836754},\n",
       " {'dmoz_Science_proposal': 0.11038333511841264},\n",
       " {'dmoz_Science_proposal': 0.21852961783276972},\n",
       " {'dmoz_Science_proposal': 0.7291316693926401},\n",
       " {'dmoz_Sports_proposal': 0.44192653765311035},\n",
       " {'dmoz_Sports_proposal': 0.7767502251550286},\n",
       " {'dmoz_Sports_proposal': 0.6820211564028087},\n",
       " {'dmoz_Sports_proposal': 0.5708657384644058},\n",
       " {'dmoz_Sports_proposal': 0.6859995528406336},\n",
       " {'dmoz_Sports_proposal': 0.18820677799314747},\n",
       " {'dmoz_Sports_proposal': 0.762498140836754},\n",
       " {'dmoz_Sports_proposal': 0.11038333511841264},\n",
       " {'dmoz_Sports_proposal': 0.21852961783276972},\n",
       " {'dmoz_Sports_proposal': 0.7291316693926401},\n",
       " {'industry_Sector_proposal': 0.44192653765311035},\n",
       " {'industry_Sector_proposal': 0.7767502251550286},\n",
       " {'industry_Sector_proposal': 0.6820211564028087},\n",
       " {'industry_Sector_proposal': 0.5708657384644058},\n",
       " {'industry_Sector_proposal': 0.6859995528406336},\n",
       " {'industry_Sector_proposal': 0.18820677799314747},\n",
       " {'industry_Sector_proposal': 0.762498140836754},\n",
       " {'industry_Sector_proposal': 0.11038333511841264},\n",
       " {'industry_Sector_proposal': 0.21852961783276972},\n",
       " {'industry_Sector_proposal': 0.7291316693926401},\n",
       " {'nsf_proposal': 0.44192653765311035},\n",
       " {'nsf_proposal': 0.7767502251550286},\n",
       " {'nsf_proposal': 0.6820211564028087},\n",
       " {'nsf_proposal': 0.5708657384644058},\n",
       " {'nsf_proposal': 0.6859995528406336},\n",
       " {'nsf_proposal': 0.18820677799314747},\n",
       " {'nsf_proposal': 0.762498140836754},\n",
       " {'nsf_proposal': 0.11038333511841264},\n",
       " {'nsf_proposal': 0.21852961783276972},\n",
       " {'nsf_proposal': 0.7291316693926401},\n",
       " {'re8_proposal': 0.44192653765311035},\n",
       " {'re8_proposal': 0.7767502251550286},\n",
       " {'re8_proposal': 0.6820211564028087},\n",
       " {'re8_proposal': 0.5708657384644058},\n",
       " {'re8_proposal': 0.6859995528406336},\n",
       " {'re8_proposal': 0.18820677799314747},\n",
       " {'re8_proposal': 0.762498140836754},\n",
       " {'re8_proposal': 0.11038333511841264},\n",
       " {'re8_proposal': 0.21852961783276972},\n",
       " {'re8_proposal': 0.7291316693926401},\n",
       " {'webkb_parsed_proposal': 0.44192653765311035},\n",
       " {'webkb_parsed_proposal': 0.7767502251550286},\n",
       " {'webkb_parsed_proposal': 0.6820211564028087},\n",
       " {'webkb_parsed_proposal': 0.5708657384644058},\n",
       " {'webkb_parsed_proposal': 0.6859995528406336},\n",
       " {'webkb_parsed_proposal': 0.18820677799314747},\n",
       " {'webkb_parsed_proposal': 0.762498140836754},\n",
       " {'webkb_parsed_proposal': 0.11038333511841264},\n",
       " {'webkb_parsed_proposal': 0.21852961783276972},\n",
       " {'webkb_parsed_proposal': 0.7291316693926401}]"
      ]
     },
     "execution_count": 36,
     "metadata": {},
     "output_type": "execute_result"
    }
   ],
   "source": [
    "mean_proposal_list"
   ]
  },
  {
   "cell_type": "markdown",
   "metadata": {
    "id": "7qECdHytjKgi"
   },
   "source": [
    "# Gerando Ranking\n",
    "\n",
    "Para cada dataset, ordenar os métodos num ranking médio.\n",
    "\n",
    "Se quando menor = melhor, então o ascendig=True.\n",
    "\n",
    "No exemplo abaixo, era F1 (então quanto maior=melhor)"
   ]
  },
  {
   "cell_type": "code",
   "execution_count": null,
   "metadata": {
    "colab": {
     "base_uri": "https://localhost:8080/",
     "height": 237
    },
    "id": "Up-xKptdjJvK",
    "outputId": "30f6520e-da13-4451-ea05-8e34e478c6ba"
   },
   "outputs": [
    {
     "data": {
      "text/html": [
       "\n",
       "  <div id=\"df-ce5ed898-8803-4367-8a70-c93d8fabdef0\">\n",
       "    <div class=\"colab-df-container\">\n",
       "      <div>\n",
       "<style scoped>\n",
       "    .dataframe tbody tr th:only-of-type {\n",
       "        vertical-align: middle;\n",
       "    }\n",
       "\n",
       "    .dataframe tbody tr th {\n",
       "        vertical-align: top;\n",
       "    }\n",
       "\n",
       "    .dataframe thead th {\n",
       "        text-align: right;\n",
       "    }\n",
       "</style>\n",
       "<table border=\"1\" class=\"dataframe\">\n",
       "  <thead>\n",
       "    <tr style=\"text-align: right;\">\n",
       "      <th></th>\n",
       "      <th>method</th>\n",
       "      <th>40er</th>\n",
       "      <th>bbc</th>\n",
       "      <th>goldstandard</th>\n",
       "      <th>googlenews</th>\n",
       "      <th>newscluster</th>\n",
       "      <th>40er_rank</th>\n",
       "      <th>bbc_rank</th>\n",
       "      <th>goldstandard_rank</th>\n",
       "      <th>googlenews_rank</th>\n",
       "      <th>newscluster_rank</th>\n",
       "      <th>average_rank</th>\n",
       "    </tr>\n",
       "  </thead>\n",
       "  <tbody>\n",
       "    <tr>\n",
       "      <th>0</th>\n",
       "      <td>DeepWalk</td>\n",
       "      <td>0.6290343909</td>\n",
       "      <td>0.4042414692</td>\n",
       "      <td>0.5082462224</td>\n",
       "      <td>0.6221345956</td>\n",
       "      <td>0.5067586872</td>\n",
       "      <td>4.0</td>\n",
       "      <td>4.0</td>\n",
       "      <td>4.0</td>\n",
       "      <td>2.0</td>\n",
       "      <td>3.0</td>\n",
       "      <td>3.4</td>\n",
       "    </tr>\n",
       "    <tr>\n",
       "      <th>1</th>\n",
       "      <td>GAT</td>\n",
       "      <td>0.5935115572</td>\n",
       "      <td>0.3765493556</td>\n",
       "      <td>0.4796654012</td>\n",
       "      <td>0.5059225215</td>\n",
       "      <td>0.474806259</td>\n",
       "      <td>5.0</td>\n",
       "      <td>5.0</td>\n",
       "      <td>5.0</td>\n",
       "      <td>5.0</td>\n",
       "      <td>4.0</td>\n",
       "      <td>4.8</td>\n",
       "    </tr>\n",
       "    <tr>\n",
       "      <th>2</th>\n",
       "      <td>GNEE</td>\n",
       "      <td>0.7443477975</td>\n",
       "      <td>0.6338181732</td>\n",
       "      <td>0.6756015947</td>\n",
       "      <td>0.9581423339</td>\n",
       "      <td>0.2744622448</td>\n",
       "      <td>1.0</td>\n",
       "      <td>1.0</td>\n",
       "      <td>1.0</td>\n",
       "      <td>1.0</td>\n",
       "      <td>5.0</td>\n",
       "      <td>1.8</td>\n",
       "    </tr>\n",
       "    <tr>\n",
       "      <th>3</th>\n",
       "      <td>GCN</td>\n",
       "      <td>0.638</td>\n",
       "      <td>0.458</td>\n",
       "      <td>0.548</td>\n",
       "      <td>0.617</td>\n",
       "      <td>0.519</td>\n",
       "      <td>2.0</td>\n",
       "      <td>2.0</td>\n",
       "      <td>2.0</td>\n",
       "      <td>3.0</td>\n",
       "      <td>1.0</td>\n",
       "      <td>2.0</td>\n",
       "    </tr>\n",
       "    <tr>\n",
       "      <th>4</th>\n",
       "      <td>Node2Vec</td>\n",
       "      <td>0.630242628</td>\n",
       "      <td>0.427887937</td>\n",
       "      <td>0.5464697267</td>\n",
       "      <td>0.5844748965</td>\n",
       "      <td>0.5079774731</td>\n",
       "      <td>3.0</td>\n",
       "      <td>3.0</td>\n",
       "      <td>3.0</td>\n",
       "      <td>4.0</td>\n",
       "      <td>2.0</td>\n",
       "      <td>3.0</td>\n",
       "    </tr>\n",
       "    <tr>\n",
       "      <th>5</th>\n",
       "      <td>Struct2Vec</td>\n",
       "      <td>0.4146780181</td>\n",
       "      <td>0.1864334353</td>\n",
       "      <td>0.0886382174</td>\n",
       "      <td>0.3110037669</td>\n",
       "      <td>0.06557059975</td>\n",
       "      <td>6.0</td>\n",
       "      <td>6.0</td>\n",
       "      <td>6.0</td>\n",
       "      <td>6.0</td>\n",
       "      <td>6.0</td>\n",
       "      <td>6.0</td>\n",
       "    </tr>\n",
       "  </tbody>\n",
       "</table>\n",
       "</div>\n",
       "      <button class=\"colab-df-convert\" onclick=\"convertToInteractive('df-ce5ed898-8803-4367-8a70-c93d8fabdef0')\"\n",
       "              title=\"Convert this dataframe to an interactive table.\"\n",
       "              style=\"display:none;\">\n",
       "        \n",
       "  <svg xmlns=\"http://www.w3.org/2000/svg\" height=\"24px\"viewBox=\"0 0 24 24\"\n",
       "       width=\"24px\">\n",
       "    <path d=\"M0 0h24v24H0V0z\" fill=\"none\"/>\n",
       "    <path d=\"M18.56 5.44l.94 2.06.94-2.06 2.06-.94-2.06-.94-.94-2.06-.94 2.06-2.06.94zm-11 1L8.5 8.5l.94-2.06 2.06-.94-2.06-.94L8.5 2.5l-.94 2.06-2.06.94zm10 10l.94 2.06.94-2.06 2.06-.94-2.06-.94-.94-2.06-.94 2.06-2.06.94z\"/><path d=\"M17.41 7.96l-1.37-1.37c-.4-.4-.92-.59-1.43-.59-.52 0-1.04.2-1.43.59L10.3 9.45l-7.72 7.72c-.78.78-.78 2.05 0 2.83L4 21.41c.39.39.9.59 1.41.59.51 0 1.02-.2 1.41-.59l7.78-7.78 2.81-2.81c.8-.78.8-2.07 0-2.86zM5.41 20L4 18.59l7.72-7.72 1.47 1.35L5.41 20z\"/>\n",
       "  </svg>\n",
       "      </button>\n",
       "      \n",
       "  <style>\n",
       "    .colab-df-container {\n",
       "      display:flex;\n",
       "      flex-wrap:wrap;\n",
       "      gap: 12px;\n",
       "    }\n",
       "\n",
       "    .colab-df-convert {\n",
       "      background-color: #E8F0FE;\n",
       "      border: none;\n",
       "      border-radius: 50%;\n",
       "      cursor: pointer;\n",
       "      display: none;\n",
       "      fill: #1967D2;\n",
       "      height: 32px;\n",
       "      padding: 0 0 0 0;\n",
       "      width: 32px;\n",
       "    }\n",
       "\n",
       "    .colab-df-convert:hover {\n",
       "      background-color: #E2EBFA;\n",
       "      box-shadow: 0px 1px 2px rgba(60, 64, 67, 0.3), 0px 1px 3px 1px rgba(60, 64, 67, 0.15);\n",
       "      fill: #174EA6;\n",
       "    }\n",
       "\n",
       "    [theme=dark] .colab-df-convert {\n",
       "      background-color: #3B4455;\n",
       "      fill: #D2E3FC;\n",
       "    }\n",
       "\n",
       "    [theme=dark] .colab-df-convert:hover {\n",
       "      background-color: #434B5C;\n",
       "      box-shadow: 0px 1px 3px 1px rgba(0, 0, 0, 0.15);\n",
       "      filter: drop-shadow(0px 1px 2px rgba(0, 0, 0, 0.3));\n",
       "      fill: #FFFFFF;\n",
       "    }\n",
       "  </style>\n",
       "\n",
       "      <script>\n",
       "        const buttonEl =\n",
       "          document.querySelector('#df-ce5ed898-8803-4367-8a70-c93d8fabdef0 button.colab-df-convert');\n",
       "        buttonEl.style.display =\n",
       "          google.colab.kernel.accessAllowed ? 'block' : 'none';\n",
       "\n",
       "        async function convertToInteractive(key) {\n",
       "          const element = document.querySelector('#df-ce5ed898-8803-4367-8a70-c93d8fabdef0');\n",
       "          const dataTable =\n",
       "            await google.colab.kernel.invokeFunction('convertToInteractive',\n",
       "                                                     [key], {});\n",
       "          if (!dataTable) return;\n",
       "\n",
       "          const docLinkHtml = 'Like what you see? Visit the ' +\n",
       "            '<a target=\"_blank\" href=https://colab.research.google.com/notebooks/data_table.ipynb>data table notebook</a>'\n",
       "            + ' to learn more about interactive tables.';\n",
       "          element.innerHTML = '';\n",
       "          dataTable['output_type'] = 'display_data';\n",
       "          await google.colab.output.renderOutput(dataTable, element);\n",
       "          const docLink = document.createElement('div');\n",
       "          docLink.innerHTML = docLinkHtml;\n",
       "          element.appendChild(docLink);\n",
       "        }\n",
       "      </script>\n",
       "    </div>\n",
       "  </div>\n",
       "  "
      ],
      "text/plain": [
       "       method          40er           bbc  goldstandard    googlenews  \\\n",
       "0    DeepWalk  0.6290343909  0.4042414692  0.5082462224  0.6221345956   \n",
       "1         GAT  0.5935115572  0.3765493556  0.4796654012  0.5059225215   \n",
       "2        GNEE  0.7443477975  0.6338181732  0.6756015947  0.9581423339   \n",
       "3         GCN         0.638         0.458         0.548         0.617   \n",
       "4    Node2Vec   0.630242628   0.427887937  0.5464697267  0.5844748965   \n",
       "5  Struct2Vec  0.4146780181  0.1864334353  0.0886382174  0.3110037669   \n",
       "\n",
       "     newscluster  40er_rank  bbc_rank  goldstandard_rank  googlenews_rank  \\\n",
       "0   0.5067586872        4.0       4.0                4.0              2.0   \n",
       "1    0.474806259        5.0       5.0                5.0              5.0   \n",
       "2   0.2744622448        1.0       1.0                1.0              1.0   \n",
       "3          0.519        2.0       2.0                2.0              3.0   \n",
       "4   0.5079774731        3.0       3.0                3.0              4.0   \n",
       "5  0.06557059975        6.0       6.0                6.0              6.0   \n",
       "\n",
       "   newscluster_rank  average_rank  \n",
       "0               3.0           3.4  \n",
       "1               4.0           4.8  \n",
       "2               5.0           1.8  \n",
       "3               1.0           2.0  \n",
       "4               2.0           3.0  \n",
       "5               6.0           6.0  "
      ]
     },
     "execution_count": 3,
     "metadata": {},
     "output_type": "execute_result"
    }
   ],
   "source": [
    "L = []\n",
    "for i in list(range(1,len(dataset))):\n",
    "  T = []\n",
    "  for item in dataset[i].split(\"\\t\"): T.append(item)\n",
    "  L.append(T)\n",
    "\n",
    "df = pd.DataFrame(L)\n",
    "df.columns = dataset[0].split(\"\\t\")\n",
    "\n",
    "df['40er_rank'] = df['40er'].rank(method='average',ascending=False)\n",
    "df['bbc_rank'] = df['bbc'].rank(method='average',ascending=False)\n",
    "df['goldstandard_rank'] = df['goldstandard'].rank(method='average',ascending=False)\n",
    "df['googlenews_rank'] = df['googlenews'].rank(method='average',ascending=False)\n",
    "df['newscluster_rank'] = df['newscluster'].rank(method='average',ascending=False)\n",
    "\n",
    "df['average_rank'] = (df['40er_rank']+df['bbc_rank']+df['goldstandard_rank']+df['googlenews_rank']+df['newscluster_rank'])/5\n",
    "df"
   ]
  },
  {
   "cell_type": "markdown",
   "metadata": {
    "id": "fJtWTBCZjj-7"
   },
   "source": [
    "# Imprimindo average_ranking"
   ]
  },
  {
   "cell_type": "code",
   "execution_count": null,
   "metadata": {
    "colab": {
     "base_uri": "https://localhost:8080/"
    },
    "id": "9_tm5AbXT3yq",
    "outputId": "7e4956ee-6ad6-4a8d-b07b-1da622fce78b"
   },
   "outputs": [
    {
     "name": "stdout",
     "output_type": "stream",
     "text": [
      "['DeepWalk' 'GAT' 'GNEE' 'GCN' 'Node2Vec' 'Struct2Vec']\n",
      "[3.4 4.8 1.8 2.  3.  6. ]\n"
     ]
    }
   ],
   "source": [
    "print(df.method.values)\n",
    "print(df.average_rank.values)\n"
   ]
  },
  {
   "cell_type": "markdown",
   "metadata": {
    "id": "fyVUnfRHcr7i"
   },
   "source": [
    "# Rodando o teste estatístico\n",
    "\n",
    "Usar o arquivo PDF para o paper"
   ]
  },
  {
   "cell_type": "code",
   "execution_count": null,
   "metadata": {
    "colab": {
     "base_uri": "https://localhost:8080/",
     "height": 181
    },
    "id": "-ODzJTbMcLgT",
    "outputId": "75a08206-79e1-4f2c-9d7e-d6faaea0ea35"
   },
   "outputs": [
    {
     "data": {
      "text/plain": [
       "<Figure size 144x144 with 0 Axes>"
      ]
     },
     "metadata": {},
     "output_type": "display_data"
    },
    {
     "data": {
      "image/png": "[encoded data removed]",
      "text/plain": [
       "<Figure size 720x133.2 with 1 Axes>"
      ]
     },
     "metadata": {},
     "output_type": "display_data"
    }
   ],
   "source": [
    "import Orange\n",
    "\n",
    "import matplotlib.pyplot as plt\n",
    "# Algoritmos\n",
    "names = df.method.values\n",
    "plt.figure(figsize=(2, 2))\n",
    "# Ranking Medio\n",
    "avranks =  df.average_rank.values\n",
    "\n",
    "# Num. de datasets:\n",
    "datasets = 5\n",
    "\n",
    "cd = Orange.evaluation.compute_CD(avranks, datasets)\n",
    "\n",
    "Orange.evaluation.graph_ranks(avranks, names, cd=cd, width=10, textspace=2.5)\n",
    "\n",
    "plt.draw()\n",
    "plt.savefig(\"eval1.pdf\",pad_inches=0)\n",
    "\n",
    "\n",
    "plt.show()\n",
    "plt.close()"
   ]
  },
  {
   "cell_type": "markdown",
   "metadata": {
    "id": "iCZ4TEzzj5ZB"
   },
   "source": [
    "# Entendendo o diagrama\n",
    "\n",
    "Os métodos são ordenados em um ranking médio.\n",
    "\n",
    "O teste de friedman calcula qual é a diferença mínima no ranking para que se possa afirmar que um método é superior a outro. Essa diferença se chama CD (critical difference).\n",
    "\n",
    "Linhas conectam métodos sem CD significativo.\n",
    "\n",
    "No exemplo acima, apenas GNEE é superior ao Struct2Vec"
   ]
  },
  {
   "cell_type": "code",
   "execution_count": null,
   "metadata": {
    "id": "XMwzZXjrkmUn"
   },
   "outputs": [],
   "source": []
  }
 ],
 "metadata": {
  "colab": {
   "collapsed_sections": [],
   "name": "Exemplo de TESTE FRIEDMAN.ipynb",
   "provenance": []
  },
  "kernelspec": {
   "display_name": "Python 3 (ipykernel)",
   "language": "python",
   "name": "python3"
  },
  "language_info": {
   "codemirror_mode": {
    "name": "ipython",
    "version": 3
   },
   "file_extension": ".py",
   "mimetype": "text/x-python",
   "name": "python",
   "nbconvert_exporter": "python",
   "pygments_lexer": "ipython3",
   "version": "3.10.2"
  }
 },
 "nbformat": 4,
 "nbformat_minor": 4
}
