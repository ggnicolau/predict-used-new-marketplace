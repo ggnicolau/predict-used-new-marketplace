{
 "cells": [
  {
   "cell_type": "markdown",
   "id": "1f3051cb-d36a-4458-918f-4b5f6512c208",
   "metadata": {
    "tags": []
   },
   "source": [
    "# Load Data"
   ]
  },
  {
   "cell_type": "code",
   "execution_count": 1,
   "id": "dede4ec6",
   "metadata": {
    "code_folding": [
     0
    ],
    "tags": []
   },
   "outputs": [],
   "source": [
    "import pandas as pd\n",
    "pd.options.mode.chained_assignment = None  # default='warn'\n",
    "dfs = pd.read_json('MLA_100k_checked_v3.jsonlines', lines=True)"
   ]
  },
  {
   "cell_type": "code",
   "execution_count": 2,
   "id": "6c6fd2c7-41ec-4176-abf3-fd637f740c2a",
   "metadata": {},
   "outputs": [],
   "source": [
    "dfs = dfs.rename(columns = {'tags':'tag'})\n",
    "dfs = dfs.rename(columns = {'id':'Id'})"
   ]
  },
  {
   "cell_type": "markdown",
   "id": "cb8ec605-1d02-41de-8242-d4bf25b7b80e",
   "metadata": {},
   "source": [
    "## Get features from dictionary columns"
   ]
  },
  {
   "cell_type": "code",
   "execution_count": 3,
   "id": "0a8250eb",
   "metadata": {},
   "outputs": [],
   "source": [
    "# Get region\n",
    "dfs['seller_country'] = dfs.apply(lambda x : x['seller_address']['country']['name'], axis = 1)\n",
    "dfs['seller_state'] = dfs.apply(lambda x : x['seller_address']['state']['name'], axis = 1)\n",
    "dfs['seller_city'] = dfs.apply(lambda x : x['seller_address']['city']['name'], axis = 1)"
   ]
  },
  {
   "cell_type": "code",
   "execution_count": 4,
   "id": "de5195ac",
   "metadata": {},
   "outputs": [],
   "source": [
    "# Transform id (named as descriptions) column to get data\n",
    "import ast\n",
    "def str_to_dict(column):\n",
    "    for i in range(len(column)):\n",
    "        try:\n",
    "            column[i] = ast.literal_eval(column[i][0])\n",
    "        except:\n",
    "            return\n",
    "\n",
    "str_to_dict(dfs['descriptions'])"
   ]
  },
  {
   "cell_type": "code",
   "execution_count": 5,
   "id": "b7e13079",
   "metadata": {
    "scrolled": true
   },
   "outputs": [],
   "source": [
    "# get data from descriptions and shipping \n",
    "dfs = pd.concat([dfs, dfs[\"descriptions\"].apply(pd.Series)], axis=1)\n",
    "dfs = pd.concat([dfs, dfs[\"shipping\"].apply(pd.Series)], axis=1)"
   ]
  },
  {
   "cell_type": "code",
   "execution_count": 6,
   "id": "af9a1386-4858-40bd-b813-87aee3f88967",
   "metadata": {
    "tags": []
   },
   "outputs": [
    {
     "data": {
      "text/html": [
       "<div>\n",
       "<style scoped>\n",
       "    .dataframe tbody tr th:only-of-type {\n",
       "        vertical-align: middle;\n",
       "    }\n",
       "\n",
       "    .dataframe tbody tr th {\n",
       "        vertical-align: top;\n",
       "    }\n",
       "\n",
       "    .dataframe thead th {\n",
       "        text-align: right;\n",
       "    }\n",
       "</style>\n",
       "<table border=\"1\" class=\"dataframe\">\n",
       "  <thead>\n",
       "    <tr style=\"text-align: right;\">\n",
       "      <th></th>\n",
       "      <th>seller_address</th>\n",
       "      <th>warranty</th>\n",
       "      <th>sub_status</th>\n",
       "      <th>condition</th>\n",
       "      <th>deal_ids</th>\n",
       "      <th>base_price</th>\n",
       "      <th>shipping</th>\n",
       "      <th>non_mercado_pago_payment_methods</th>\n",
       "      <th>seller_id</th>\n",
       "      <th>variations</th>\n",
       "      <th>site_id</th>\n",
       "      <th>listing_type_id</th>\n",
       "      <th>price</th>\n",
       "      <th>attributes</th>\n",
       "      <th>buying_mode</th>\n",
       "      <th>tag</th>\n",
       "      <th>listing_source</th>\n",
       "      <th>parent_item_id</th>\n",
       "      <th>coverage_areas</th>\n",
       "      <th>category_id</th>\n",
       "      <th>descriptions</th>\n",
       "      <th>last_updated</th>\n",
       "      <th>international_delivery_mode</th>\n",
       "      <th>pictures</th>\n",
       "      <th>Id</th>\n",
       "      <th>official_store_id</th>\n",
       "      <th>differential_pricing</th>\n",
       "      <th>accepts_mercadopago</th>\n",
       "      <th>original_price</th>\n",
       "      <th>currency_id</th>\n",
       "      <th>thumbnail</th>\n",
       "      <th>title</th>\n",
       "      <th>automatic_relist</th>\n",
       "      <th>date_created</th>\n",
       "      <th>secure_thumbnail</th>\n",
       "      <th>stop_time</th>\n",
       "      <th>status</th>\n",
       "      <th>video_id</th>\n",
       "      <th>catalog_product_id</th>\n",
       "      <th>subtitle</th>\n",
       "      <th>initial_quantity</th>\n",
       "      <th>start_time</th>\n",
       "      <th>permalink</th>\n",
       "      <th>sold_quantity</th>\n",
       "      <th>available_quantity</th>\n",
       "      <th>seller_country</th>\n",
       "      <th>seller_state</th>\n",
       "      <th>seller_city</th>\n",
       "      <th>0</th>\n",
       "      <th>id</th>\n",
       "      <th>local_pick_up</th>\n",
       "      <th>methods</th>\n",
       "      <th>tags</th>\n",
       "      <th>free_shipping</th>\n",
       "      <th>mode</th>\n",
       "      <th>dimensions</th>\n",
       "      <th>free_methods</th>\n",
       "    </tr>\n",
       "  </thead>\n",
       "  <tbody>\n",
       "    <tr>\n",
       "      <th>0</th>\n",
       "      <td>{'country': {'name': 'Argentina', 'id': 'AR'},...</td>\n",
       "      <td>None</td>\n",
       "      <td>[]</td>\n",
       "      <td>new</td>\n",
       "      <td>[]</td>\n",
       "      <td>80.0</td>\n",
       "      <td>{'local_pick_up': True, 'methods': [], 'tags':...</td>\n",
       "      <td>[{'description': 'Transferencia bancaria', 'id...</td>\n",
       "      <td>8208882349</td>\n",
       "      <td>[]</td>\n",
       "      <td>MLA</td>\n",
       "      <td>bronze</td>\n",
       "      <td>80.0</td>\n",
       "      <td>[]</td>\n",
       "      <td>buy_it_now</td>\n",
       "      <td>[dragged_bids_and_visits]</td>\n",
       "      <td></td>\n",
       "      <td>MLA6553902747</td>\n",
       "      <td>[]</td>\n",
       "      <td>MLA126406</td>\n",
       "      <td>{'id': 'MLA4695330653-912855983'}</td>\n",
       "      <td>2015-09-05T20:42:58.000Z</td>\n",
       "      <td>none</td>\n",
       "      <td>[{'size': '500x375', 'secure_url': 'https://a2...</td>\n",
       "      <td>MLA4695330653</td>\n",
       "      <td>NaN</td>\n",
       "      <td>NaN</td>\n",
       "      <td>True</td>\n",
       "      <td>NaN</td>\n",
       "      <td>ARS</td>\n",
       "      <td>http://mla-s1-p.mlstatic.com/5386-MLA469533065...</td>\n",
       "      <td>Auriculares Samsung Originales Manos Libres Ca...</td>\n",
       "      <td>False</td>\n",
       "      <td>2015-09-05T20:42:53.000Z</td>\n",
       "      <td>https://a248.e.akamai.net/mla-s1-p.mlstatic.co...</td>\n",
       "      <td>2015-11-04 20:42:53</td>\n",
       "      <td>active</td>\n",
       "      <td>None</td>\n",
       "      <td>NaN</td>\n",
       "      <td>NaN</td>\n",
       "      <td>1</td>\n",
       "      <td>2015-09-05 20:42:53</td>\n",
       "      <td>http://articulo.mercadolibre.com.ar/MLA4695330...</td>\n",
       "      <td>0</td>\n",
       "      <td>1</td>\n",
       "      <td>Argentina</td>\n",
       "      <td>Capital Federal</td>\n",
       "      <td>San Cristóbal</td>\n",
       "      <td>NaN</td>\n",
       "      <td>MLA4695330653-912855983</td>\n",
       "      <td>True</td>\n",
       "      <td>[]</td>\n",
       "      <td>[]</td>\n",
       "      <td>False</td>\n",
       "      <td>not_specified</td>\n",
       "      <td>None</td>\n",
       "      <td>NaN</td>\n",
       "    </tr>\n",
       "    <tr>\n",
       "      <th>1</th>\n",
       "      <td>{'country': {'name': 'Argentina', 'id': 'AR'},...</td>\n",
       "      <td>NUESTRA REPUTACION</td>\n",
       "      <td>[]</td>\n",
       "      <td>used</td>\n",
       "      <td>[]</td>\n",
       "      <td>2650.0</td>\n",
       "      <td>{'local_pick_up': True, 'methods': [], 'tags':...</td>\n",
       "      <td>[{'description': 'Transferencia bancaria', 'id...</td>\n",
       "      <td>8141699488</td>\n",
       "      <td>[]</td>\n",
       "      <td>MLA</td>\n",
       "      <td>silver</td>\n",
       "      <td>2650.0</td>\n",
       "      <td>[]</td>\n",
       "      <td>buy_it_now</td>\n",
       "      <td>[]</td>\n",
       "      <td></td>\n",
       "      <td>MLA7727150374</td>\n",
       "      <td>[]</td>\n",
       "      <td>MLA10267</td>\n",
       "      <td>{'id': 'MLA7160447179-930764806'}</td>\n",
       "      <td>2015-09-26T18:08:34.000Z</td>\n",
       "      <td>none</td>\n",
       "      <td>[{'size': '499x334', 'secure_url': 'https://a2...</td>\n",
       "      <td>MLA7160447179</td>\n",
       "      <td>NaN</td>\n",
       "      <td>NaN</td>\n",
       "      <td>True</td>\n",
       "      <td>NaN</td>\n",
       "      <td>ARS</td>\n",
       "      <td>http://mla-s1-p.mlstatic.com/23223-MLA71604471...</td>\n",
       "      <td>Cuchillo Daga Acero Carbón Casco Yelmo Solinge...</td>\n",
       "      <td>False</td>\n",
       "      <td>2015-09-26T18:08:30.000Z</td>\n",
       "      <td>https://a248.e.akamai.net/mla-s1-p.mlstatic.co...</td>\n",
       "      <td>2015-11-25 18:08:30</td>\n",
       "      <td>active</td>\n",
       "      <td>None</td>\n",
       "      <td>NaN</td>\n",
       "      <td>NaN</td>\n",
       "      <td>1</td>\n",
       "      <td>2015-09-26 18:08:30</td>\n",
       "      <td>http://articulo.mercadolibre.com.ar/MLA7160447...</td>\n",
       "      <td>0</td>\n",
       "      <td>1</td>\n",
       "      <td>Argentina</td>\n",
       "      <td>Capital Federal</td>\n",
       "      <td>Buenos Aires</td>\n",
       "      <td>NaN</td>\n",
       "      <td>MLA7160447179-930764806</td>\n",
       "      <td>True</td>\n",
       "      <td>[]</td>\n",
       "      <td>[]</td>\n",
       "      <td>False</td>\n",
       "      <td>me2</td>\n",
       "      <td>None</td>\n",
       "      <td>NaN</td>\n",
       "    </tr>\n",
       "    <tr>\n",
       "      <th>2</th>\n",
       "      <td>{'country': {'name': 'Argentina', 'id': 'AR'},...</td>\n",
       "      <td>None</td>\n",
       "      <td>[]</td>\n",
       "      <td>used</td>\n",
       "      <td>[]</td>\n",
       "      <td>60.0</td>\n",
       "      <td>{'local_pick_up': True, 'methods': [], 'tags':...</td>\n",
       "      <td>[{'description': 'Transferencia bancaria', 'id...</td>\n",
       "      <td>8386096505</td>\n",
       "      <td>[]</td>\n",
       "      <td>MLA</td>\n",
       "      <td>bronze</td>\n",
       "      <td>60.0</td>\n",
       "      <td>[]</td>\n",
       "      <td>buy_it_now</td>\n",
       "      <td>[dragged_bids_and_visits]</td>\n",
       "      <td></td>\n",
       "      <td>MLA6561247998</td>\n",
       "      <td>[]</td>\n",
       "      <td>MLA1227</td>\n",
       "      <td>{'id': 'MLA7367189936-916478256'}</td>\n",
       "      <td>2015-09-09T23:57:10.000Z</td>\n",
       "      <td>none</td>\n",
       "      <td>[{'size': '375x500', 'secure_url': 'https://a2...</td>\n",
       "      <td>MLA7367189936</td>\n",
       "      <td>NaN</td>\n",
       "      <td>NaN</td>\n",
       "      <td>True</td>\n",
       "      <td>NaN</td>\n",
       "      <td>ARS</td>\n",
       "      <td>http://mla-s1-p.mlstatic.com/22076-MLA73671899...</td>\n",
       "      <td>Antigua Revista Billiken, N° 1826, Año 1954</td>\n",
       "      <td>False</td>\n",
       "      <td>2015-09-09T23:57:07.000Z</td>\n",
       "      <td>https://a248.e.akamai.net/mla-s1-p.mlstatic.co...</td>\n",
       "      <td>2015-11-08 23:57:07</td>\n",
       "      <td>active</td>\n",
       "      <td>None</td>\n",
       "      <td>NaN</td>\n",
       "      <td>NaN</td>\n",
       "      <td>1</td>\n",
       "      <td>2015-09-09 23:57:07</td>\n",
       "      <td>http://articulo.mercadolibre.com.ar/MLA7367189...</td>\n",
       "      <td>0</td>\n",
       "      <td>1</td>\n",
       "      <td>Argentina</td>\n",
       "      <td>Capital Federal</td>\n",
       "      <td>Boedo</td>\n",
       "      <td>NaN</td>\n",
       "      <td>MLA7367189936-916478256</td>\n",
       "      <td>True</td>\n",
       "      <td>[]</td>\n",
       "      <td>[]</td>\n",
       "      <td>False</td>\n",
       "      <td>me2</td>\n",
       "      <td>None</td>\n",
       "      <td>NaN</td>\n",
       "    </tr>\n",
       "    <tr>\n",
       "      <th>3</th>\n",
       "      <td>{'country': {'name': 'Argentina', 'id': 'AR'},...</td>\n",
       "      <td>None</td>\n",
       "      <td>[]</td>\n",
       "      <td>new</td>\n",
       "      <td>[]</td>\n",
       "      <td>580.0</td>\n",
       "      <td>{'local_pick_up': True, 'methods': [], 'tags':...</td>\n",
       "      <td>[{'description': 'Transferencia bancaria', 'id...</td>\n",
       "      <td>5377752182</td>\n",
       "      <td>[]</td>\n",
       "      <td>MLA</td>\n",
       "      <td>silver</td>\n",
       "      <td>580.0</td>\n",
       "      <td>[]</td>\n",
       "      <td>buy_it_now</td>\n",
       "      <td>[]</td>\n",
       "      <td></td>\n",
       "      <td>None</td>\n",
       "      <td>[]</td>\n",
       "      <td>MLA86345</td>\n",
       "      <td>{'id': 'MLA9191625553-932309698'}</td>\n",
       "      <td>2015-10-05T16:03:50.306Z</td>\n",
       "      <td>none</td>\n",
       "      <td>[{'size': '441x423', 'secure_url': 'https://a2...</td>\n",
       "      <td>MLA9191625553</td>\n",
       "      <td>NaN</td>\n",
       "      <td>NaN</td>\n",
       "      <td>True</td>\n",
       "      <td>NaN</td>\n",
       "      <td>ARS</td>\n",
       "      <td>http://mla-s2-p.mlstatic.com/183901-MLA9191625...</td>\n",
       "      <td>Alarma Guardtex Gx412 Seguridad Para El Automo...</td>\n",
       "      <td>False</td>\n",
       "      <td>2015-09-28T18:47:56.000Z</td>\n",
       "      <td>https://a248.e.akamai.net/mla-s2-p.mlstatic.co...</td>\n",
       "      <td>2015-12-04 01:13:16</td>\n",
       "      <td>active</td>\n",
       "      <td>None</td>\n",
       "      <td>NaN</td>\n",
       "      <td>NaN</td>\n",
       "      <td>1</td>\n",
       "      <td>2015-09-28 18:47:56</td>\n",
       "      <td>http://articulo.mercadolibre.com.ar/MLA9191625...</td>\n",
       "      <td>0</td>\n",
       "      <td>1</td>\n",
       "      <td>Argentina</td>\n",
       "      <td>Capital Federal</td>\n",
       "      <td>Floresta</td>\n",
       "      <td>NaN</td>\n",
       "      <td>MLA9191625553-932309698</td>\n",
       "      <td>True</td>\n",
       "      <td>[]</td>\n",
       "      <td>[]</td>\n",
       "      <td>False</td>\n",
       "      <td>me2</td>\n",
       "      <td>None</td>\n",
       "      <td>NaN</td>\n",
       "    </tr>\n",
       "    <tr>\n",
       "      <th>4</th>\n",
       "      <td>{'country': {'name': 'Argentina', 'id': 'AR'},...</td>\n",
       "      <td>MI REPUTACION.</td>\n",
       "      <td>[]</td>\n",
       "      <td>used</td>\n",
       "      <td>[]</td>\n",
       "      <td>30.0</td>\n",
       "      <td>{'local_pick_up': True, 'methods': [], 'tags':...</td>\n",
       "      <td>[{'description': 'Transferencia bancaria', 'id...</td>\n",
       "      <td>2938071313</td>\n",
       "      <td>[]</td>\n",
       "      <td>MLA</td>\n",
       "      <td>bronze</td>\n",
       "      <td>30.0</td>\n",
       "      <td>[]</td>\n",
       "      <td>buy_it_now</td>\n",
       "      <td>[dragged_bids_and_visits]</td>\n",
       "      <td></td>\n",
       "      <td>MLA3133256685</td>\n",
       "      <td>[]</td>\n",
       "      <td>MLA41287</td>\n",
       "      <td>{'id': 'MLA7787961817-902981678'}</td>\n",
       "      <td>2015-08-28T13:37:41.000Z</td>\n",
       "      <td>none</td>\n",
       "      <td>[{'size': '375x500', 'secure_url': 'https://a2...</td>\n",
       "      <td>MLA7787961817</td>\n",
       "      <td>NaN</td>\n",
       "      <td>NaN</td>\n",
       "      <td>True</td>\n",
       "      <td>NaN</td>\n",
       "      <td>ARS</td>\n",
       "      <td>http://mla-s2-p.mlstatic.com/13595-MLA77879618...</td>\n",
       "      <td>Serenata - Jennifer Blake</td>\n",
       "      <td>False</td>\n",
       "      <td>2015-08-24T22:07:20.000Z</td>\n",
       "      <td>https://a248.e.akamai.net/mla-s2-p.mlstatic.co...</td>\n",
       "      <td>2015-10-23 22:07:20</td>\n",
       "      <td>active</td>\n",
       "      <td>None</td>\n",
       "      <td>NaN</td>\n",
       "      <td>NaN</td>\n",
       "      <td>1</td>\n",
       "      <td>2015-08-24 22:07:20</td>\n",
       "      <td>http://articulo.mercadolibre.com.ar/MLA7787961...</td>\n",
       "      <td>0</td>\n",
       "      <td>1</td>\n",
       "      <td>Argentina</td>\n",
       "      <td>Buenos Aires</td>\n",
       "      <td>Tres de febrero</td>\n",
       "      <td>NaN</td>\n",
       "      <td>MLA7787961817-902981678</td>\n",
       "      <td>True</td>\n",
       "      <td>[]</td>\n",
       "      <td>[]</td>\n",
       "      <td>False</td>\n",
       "      <td>not_specified</td>\n",
       "      <td>None</td>\n",
       "      <td>NaN</td>\n",
       "    </tr>\n",
       "  </tbody>\n",
       "</table>\n",
       "</div>"
      ],
      "text/plain": [
       "                                      seller_address            warranty  \\\n",
       "0  {'country': {'name': 'Argentina', 'id': 'AR'},...                None   \n",
       "1  {'country': {'name': 'Argentina', 'id': 'AR'},...  NUESTRA REPUTACION   \n",
       "2  {'country': {'name': 'Argentina', 'id': 'AR'},...                None   \n",
       "3  {'country': {'name': 'Argentina', 'id': 'AR'},...                None   \n",
       "4  {'country': {'name': 'Argentina', 'id': 'AR'},...      MI REPUTACION.   \n",
       "\n",
       "  sub_status condition deal_ids  base_price  \\\n",
       "0         []       new       []        80.0   \n",
       "1         []      used       []      2650.0   \n",
       "2         []      used       []        60.0   \n",
       "3         []       new       []       580.0   \n",
       "4         []      used       []        30.0   \n",
       "\n",
       "                                            shipping  \\\n",
       "0  {'local_pick_up': True, 'methods': [], 'tags':...   \n",
       "1  {'local_pick_up': True, 'methods': [], 'tags':...   \n",
       "2  {'local_pick_up': True, 'methods': [], 'tags':...   \n",
       "3  {'local_pick_up': True, 'methods': [], 'tags':...   \n",
       "4  {'local_pick_up': True, 'methods': [], 'tags':...   \n",
       "\n",
       "                    non_mercado_pago_payment_methods   seller_id variations  \\\n",
       "0  [{'description': 'Transferencia bancaria', 'id...  8208882349         []   \n",
       "1  [{'description': 'Transferencia bancaria', 'id...  8141699488         []   \n",
       "2  [{'description': 'Transferencia bancaria', 'id...  8386096505         []   \n",
       "3  [{'description': 'Transferencia bancaria', 'id...  5377752182         []   \n",
       "4  [{'description': 'Transferencia bancaria', 'id...  2938071313         []   \n",
       "\n",
       "  site_id listing_type_id   price attributes buying_mode  \\\n",
       "0     MLA          bronze    80.0         []  buy_it_now   \n",
       "1     MLA          silver  2650.0         []  buy_it_now   \n",
       "2     MLA          bronze    60.0         []  buy_it_now   \n",
       "3     MLA          silver   580.0         []  buy_it_now   \n",
       "4     MLA          bronze    30.0         []  buy_it_now   \n",
       "\n",
       "                         tag listing_source parent_item_id coverage_areas  \\\n",
       "0  [dragged_bids_and_visits]                 MLA6553902747             []   \n",
       "1                         []                 MLA7727150374             []   \n",
       "2  [dragged_bids_and_visits]                 MLA6561247998             []   \n",
       "3                         []                          None             []   \n",
       "4  [dragged_bids_and_visits]                 MLA3133256685             []   \n",
       "\n",
       "  category_id                       descriptions              last_updated  \\\n",
       "0   MLA126406  {'id': 'MLA4695330653-912855983'}  2015-09-05T20:42:58.000Z   \n",
       "1    MLA10267  {'id': 'MLA7160447179-930764806'}  2015-09-26T18:08:34.000Z   \n",
       "2     MLA1227  {'id': 'MLA7367189936-916478256'}  2015-09-09T23:57:10.000Z   \n",
       "3    MLA86345  {'id': 'MLA9191625553-932309698'}  2015-10-05T16:03:50.306Z   \n",
       "4    MLA41287  {'id': 'MLA7787961817-902981678'}  2015-08-28T13:37:41.000Z   \n",
       "\n",
       "  international_delivery_mode  \\\n",
       "0                        none   \n",
       "1                        none   \n",
       "2                        none   \n",
       "3                        none   \n",
       "4                        none   \n",
       "\n",
       "                                            pictures             Id  \\\n",
       "0  [{'size': '500x375', 'secure_url': 'https://a2...  MLA4695330653   \n",
       "1  [{'size': '499x334', 'secure_url': 'https://a2...  MLA7160447179   \n",
       "2  [{'size': '375x500', 'secure_url': 'https://a2...  MLA7367189936   \n",
       "3  [{'size': '441x423', 'secure_url': 'https://a2...  MLA9191625553   \n",
       "4  [{'size': '375x500', 'secure_url': 'https://a2...  MLA7787961817   \n",
       "\n",
       "   official_store_id  differential_pricing  accepts_mercadopago  \\\n",
       "0                NaN                   NaN                 True   \n",
       "1                NaN                   NaN                 True   \n",
       "2                NaN                   NaN                 True   \n",
       "3                NaN                   NaN                 True   \n",
       "4                NaN                   NaN                 True   \n",
       "\n",
       "   original_price currency_id  \\\n",
       "0             NaN         ARS   \n",
       "1             NaN         ARS   \n",
       "2             NaN         ARS   \n",
       "3             NaN         ARS   \n",
       "4             NaN         ARS   \n",
       "\n",
       "                                           thumbnail  \\\n",
       "0  http://mla-s1-p.mlstatic.com/5386-MLA469533065...   \n",
       "1  http://mla-s1-p.mlstatic.com/23223-MLA71604471...   \n",
       "2  http://mla-s1-p.mlstatic.com/22076-MLA73671899...   \n",
       "3  http://mla-s2-p.mlstatic.com/183901-MLA9191625...   \n",
       "4  http://mla-s2-p.mlstatic.com/13595-MLA77879618...   \n",
       "\n",
       "                                               title  automatic_relist  \\\n",
       "0  Auriculares Samsung Originales Manos Libres Ca...             False   \n",
       "1  Cuchillo Daga Acero Carbón Casco Yelmo Solinge...             False   \n",
       "2        Antigua Revista Billiken, N° 1826, Año 1954             False   \n",
       "3  Alarma Guardtex Gx412 Seguridad Para El Automo...             False   \n",
       "4                          Serenata - Jennifer Blake             False   \n",
       "\n",
       "               date_created  \\\n",
       "0  2015-09-05T20:42:53.000Z   \n",
       "1  2015-09-26T18:08:30.000Z   \n",
       "2  2015-09-09T23:57:07.000Z   \n",
       "3  2015-09-28T18:47:56.000Z   \n",
       "4  2015-08-24T22:07:20.000Z   \n",
       "\n",
       "                                    secure_thumbnail           stop_time  \\\n",
       "0  https://a248.e.akamai.net/mla-s1-p.mlstatic.co... 2015-11-04 20:42:53   \n",
       "1  https://a248.e.akamai.net/mla-s1-p.mlstatic.co... 2015-11-25 18:08:30   \n",
       "2  https://a248.e.akamai.net/mla-s1-p.mlstatic.co... 2015-11-08 23:57:07   \n",
       "3  https://a248.e.akamai.net/mla-s2-p.mlstatic.co... 2015-12-04 01:13:16   \n",
       "4  https://a248.e.akamai.net/mla-s2-p.mlstatic.co... 2015-10-23 22:07:20   \n",
       "\n",
       "   status video_id  catalog_product_id  subtitle  initial_quantity  \\\n",
       "0  active     None                 NaN       NaN                 1   \n",
       "1  active     None                 NaN       NaN                 1   \n",
       "2  active     None                 NaN       NaN                 1   \n",
       "3  active     None                 NaN       NaN                 1   \n",
       "4  active     None                 NaN       NaN                 1   \n",
       "\n",
       "           start_time                                          permalink  \\\n",
       "0 2015-09-05 20:42:53  http://articulo.mercadolibre.com.ar/MLA4695330...   \n",
       "1 2015-09-26 18:08:30  http://articulo.mercadolibre.com.ar/MLA7160447...   \n",
       "2 2015-09-09 23:57:07  http://articulo.mercadolibre.com.ar/MLA7367189...   \n",
       "3 2015-09-28 18:47:56  http://articulo.mercadolibre.com.ar/MLA9191625...   \n",
       "4 2015-08-24 22:07:20  http://articulo.mercadolibre.com.ar/MLA7787961...   \n",
       "\n",
       "   sold_quantity  available_quantity seller_country     seller_state  \\\n",
       "0              0                   1      Argentina  Capital Federal   \n",
       "1              0                   1      Argentina  Capital Federal   \n",
       "2              0                   1      Argentina  Capital Federal   \n",
       "3              0                   1      Argentina  Capital Federal   \n",
       "4              0                   1      Argentina     Buenos Aires   \n",
       "\n",
       "       seller_city    0                       id  local_pick_up methods tags  \\\n",
       "0    San Cristóbal  NaN  MLA4695330653-912855983           True      []   []   \n",
       "1     Buenos Aires  NaN  MLA7160447179-930764806           True      []   []   \n",
       "2            Boedo  NaN  MLA7367189936-916478256           True      []   []   \n",
       "3         Floresta  NaN  MLA9191625553-932309698           True      []   []   \n",
       "4  Tres de febrero  NaN  MLA7787961817-902981678           True      []   []   \n",
       "\n",
       "   free_shipping           mode dimensions free_methods  \n",
       "0          False  not_specified       None          NaN  \n",
       "1          False            me2       None          NaN  \n",
       "2          False            me2       None          NaN  \n",
       "3          False            me2       None          NaN  \n",
       "4          False  not_specified       None          NaN  "
      ]
     },
     "execution_count": 6,
     "metadata": {},
     "output_type": "execute_result"
    }
   ],
   "source": [
    "pd.set_option('display.max_columns', None)\n",
    "dfs.head(5)"
   ]
  },
  {
   "cell_type": "code",
   "execution_count": 7,
   "id": "de3107e7",
   "metadata": {
    "scrolled": true
   },
   "outputs": [],
   "source": [
    "# Get payment methods from dict\n",
    "def convertCol(x,key,i):\n",
    "    try:\n",
    "        return x[i][key]\n",
    "    except: \n",
    "        return ''\n",
    "    \n",
    "for key in ['description']: #['description','id','type'] -- only description is interesting\n",
    "    for i in range(0,13):\n",
    "        dfs[f'payment_{key}{i}'] = dfs['non_mercado_pago_payment_methods'].apply(lambda x: convertCol(x,key,i))"
   ]
  },
  {
   "cell_type": "code",
   "execution_count": 8,
   "id": "5f7c2463",
   "metadata": {},
   "outputs": [
    {
     "data": {
      "text/plain": [
       "{'Acordar con el comprador',\n",
       " 'American Express',\n",
       " 'Cheque certificado',\n",
       " 'Contra reembolso',\n",
       " 'Diners',\n",
       " 'Efectivo',\n",
       " 'Giro postal',\n",
       " 'MasterCard',\n",
       " 'Mastercard Maestro',\n",
       " 'MercadoPago',\n",
       " 'Tarjeta de crédito',\n",
       " 'Transferencia bancaria',\n",
       " 'Visa',\n",
       " 'Visa Electron'}"
      ]
     },
     "execution_count": 8,
     "metadata": {},
     "output_type": "execute_result"
    }
   ],
   "source": [
    "# Create a boolean column for each payment method \n",
    "lista_c = []\n",
    "for i in range(0,13):\n",
    "    lista = dfs[f'payment_description{i}'].unique()\n",
    "    lista_c.extend(lista)\n",
    "\n",
    "desc_uniques = set(lista_c)\n",
    "desc_uniques.remove('')\n",
    "desc_uniques"
   ]
  },
  {
   "cell_type": "code",
   "execution_count": 9,
   "id": "f6425291",
   "metadata": {
    "scrolled": true
   },
   "outputs": [],
   "source": [
    "# Rename column for an improved dataframe (#TODO: Use apply for performance)\n",
    "for col in desc_uniques:\n",
    "    col_name=col.replace(' ','_')\n",
    "    dfs[col_name] = dfs.isin([col]).any(axis=1)\n",
    "\n",
    "# drop older columns\n",
    "dfs = dfs.drop(dfs.loc[:, 'payment_description0':'payment_description12'], axis = 1)"
   ]
  },
  {
   "cell_type": "code",
   "execution_count": 10,
   "id": "35828981-d6f6-4cb7-bf35-382181018cf8",
   "metadata": {
    "tags": []
   },
   "outputs": [],
   "source": [
    "import numpy as np\n",
    "dfs = dfs.applymap(lambda x: x if x else np.nan)\n",
    "dfs = dfs.dropna(how='all', axis=1)"
   ]
  },
  {
   "cell_type": "markdown",
   "id": "f8858b01-9e78-4888-9d8b-2d4f024cd62d",
   "metadata": {
    "tags": []
   },
   "source": [
    "# Data Transformation"
   ]
  },
  {
   "cell_type": "markdown",
   "id": "3d3041b8-88d3-445e-8a9a-36da7b104e69",
   "metadata": {
    "tags": []
   },
   "source": [
    "## Change type and filter columns"
   ]
  },
  {
   "cell_type": "markdown",
   "id": "91ac1804-2d17-4096-99c5-2cd4b121555c",
   "metadata": {
    "tags": []
   },
   "source": [
    "COLUNAS QUE FICAM:\n",
    "- warranty fica\n",
    "- sub_status fica, quando suspende anúncio, pode ter a ver\n",
    "- base_price fica\n",
    "- seller_id fica\n",
    "- price fica\n",
    "- buying_mode fica\n",
    "- parent_item_id fica\n",
    "- last_updated fica\n",
    "- id fica\n",
    "- official_store_id fica\n",
    "- accepts_mercadopago fica (duplicado com mercado pago?)\n",
    "- original_price fica\n",
    "- currency_id fica\n",
    "- title fica\n",
    "- automatic_relist fica\n",
    "- stop_time fica\n",
    "- status fica\n",
    "- video_id fica (pode ser vídeo de usados)\n",
    "- initial_quantity definitivamente fica\n",
    "- start_time fica\n",
    "- sold_quantity fica\n",
    "- available_quantity fica\n",
    "- seller_country, state, city fica\n",
    "- local_pick_up fica\n",
    "- free_shipping fica (provavelmente usados usam menos, venda privada)\n",
    "- Contra_reembolso fica (usados precisam de reembolso)\n",
    "- Giro_postal fica\n",
    "- mode fica (não sei o que é, mas tá completa, not_specified pode ser mais comum em usados)\n",
    "- tags fica\n",
    "- date_created\n",
    "\n",
    "FICA MAS TRANFORMAR (pagamentos):\n",
    "- Cheque_certificado\n",
    "- Mastercard_Maestro\n",
    "- Diners\n",
    "- Transferencia_bancaria\n",
    "- MercadoPago (será? duplicado com accepts mercadopago?)\n",
    "- Efectivo\n",
    "- Tarjeta_de_crédito (duplicado com outras colunas? mesclar colunas e preencher essa)\n",
    "- American_Express\n",
    "- MasterCard\n",
    "- Visa_Electron\n",
    "- Visa\n",
    "- Acordar_con_el_comprador\n",
    "\n",
    "COLUNAS QUE SAIEM:\n",
    "- seller_address sai\n",
    "- deals_ids sai, não parece dizer nada relevante para nós\n",
    "- shipping sai\n",
    "- non_mercad_pago_etc (transformei) sai\n",
    "- site_id sai\n",
    "- listin_type_id sai\n",
    "- category sai\n",
    "- description sai (virou id)\n",
    "- international_delivery_mode\n",
    "- pictures sai\n",
    "- thumbnail sai\n",
    "- secure_thumbnail sai\n",
    "- permalink sai\n",
    "- free_methods sai, não parece ter info relevante\n",
    "\n",
    "\n",
    "DÚVIDAS:\n",
    "- variations não sei, mas acho que sai, são anuncios relacionados\n",
    "- attributes não sei, mas acho que sai\n",
    "- dimensions acho que sai\n",
    "\n"
   ]
  },
  {
   "cell_type": "code",
   "execution_count": 11,
   "id": "240f93f3-4118-4e8b-975a-126da59fcf22",
   "metadata": {},
   "outputs": [],
   "source": [
    "# Rename columns\n",
    "dfs = dfs.rename(columns = {'id':'descr_id', 'Id': 'id'})\n",
    "\n",
    "# Reorder columns\n",
    "dfs = dfs[['title', 'condition', 'warranty','initial_quantity', 'available_quantity', 'sold_quantity',\n",
    "                'sub_status', 'buying_mode', 'original_price', 'base_price', 'price', 'currency_id',\n",
    "                'seller_country', 'seller_state', 'seller_city', 'Giro_postal',  \n",
    "                'free_shipping', 'local_pick_up', 'mode', 'tags', 'tag',\n",
    "                'Contra_reembolso','Acordar_con_el_comprador', 'Cheque_certificado', 'Efectivo', 'Transferencia_bancaria', 'Tarjeta_de_crédito',\n",
    "                'Mastercard_Maestro', 'MasterCard', 'Visa_Electron', 'Visa', 'Diners', 'American_Express',\n",
    "                'status', 'automatic_relist',\n",
    "                'accepts_mercadopago', 'MercadoPago', \n",
    "                'id', 'descr_id', 'deal_ids', 'parent_item_id', 'category_id', 'seller_id', 'official_store_id', 'video_id',\n",
    "                'date_created', 'start_time', 'last_updated', 'stop_time']]"
   ]
  },
  {
   "cell_type": "code",
   "execution_count": 12,
   "id": "e95ebc2d-0c5d-4efa-97cd-1f4940220f56",
   "metadata": {},
   "outputs": [
    {
     "data": {
      "text/plain": [
       "True    97781\n",
       "Name: accepts_mercadopago, dtype: int64"
      ]
     },
     "execution_count": 12,
     "metadata": {},
     "output_type": "execute_result"
    }
   ],
   "source": [
    "dfs['accepts_mercadopago'].value_counts()"
   ]
  },
  {
   "cell_type": "code",
   "execution_count": 13,
   "id": "98bc4d7b-2642-4342-90f5-ab0e5494e906",
   "metadata": {},
   "outputs": [
    {
     "data": {
      "text/plain": [
       "True    720\n",
       "Name: MercadoPago, dtype: int64"
      ]
     },
     "execution_count": 13,
     "metadata": {},
     "output_type": "execute_result"
    }
   ],
   "source": [
    "dfs['MercadoPago'].value_counts()"
   ]
  },
  {
   "cell_type": "code",
   "execution_count": 14,
   "id": "0b4c4220-1bad-46a3-82df-63ed90f00ce2",
   "metadata": {},
   "outputs": [],
   "source": [
    "# Merge columns about same subjects\n",
    "dfs['accepts_mercadopago'] = dfs['accepts_mercadopago'].fillna(dfs['MercadoPago'])"
   ]
  },
  {
   "cell_type": "code",
   "execution_count": 15,
   "id": "fdd24354-db22-44c2-8c71-9cd6c26c8a8e",
   "metadata": {},
   "outputs": [
    {
     "data": {
      "text/plain": [
       "True    647\n",
       "Name: MasterCard, dtype: int64"
      ]
     },
     "execution_count": 15,
     "metadata": {},
     "output_type": "execute_result"
    }
   ],
   "source": [
    "dfs['MasterCard'].value_counts()"
   ]
  },
  {
   "cell_type": "code",
   "execution_count": 16,
   "id": "1740b992-196f-4d97-96c9-01e304c1fea7",
   "metadata": {},
   "outputs": [],
   "source": [
    "dfs['MasterCard'] = dfs['Mastercard_Maestro'].fillna(dfs['MercadoPago'])"
   ]
  },
  {
   "cell_type": "code",
   "execution_count": 17,
   "id": "4f1f24d1-1084-40b9-95a3-5a4848aee4fd",
   "metadata": {},
   "outputs": [],
   "source": [
    "dfs['Visa'] = dfs['Visa_Electron'].fillna(dfs['Visa'])"
   ]
  },
  {
   "cell_type": "code",
   "execution_count": 18,
   "id": "42361549-662b-4e02-9de0-cd7e24a382f3",
   "metadata": {},
   "outputs": [
    {
     "data": {
      "text/plain": [
       "True    24638\n",
       "Name: Tarjeta_de_crédito, dtype: int64"
      ]
     },
     "execution_count": 18,
     "metadata": {},
     "output_type": "execute_result"
    }
   ],
   "source": [
    "dfs['Tarjeta_de_crédito'].value_counts()"
   ]
  },
  {
   "cell_type": "code",
   "execution_count": 19,
   "id": "a7cbd6fd-adee-4c98-bd15-761f8749adb0",
   "metadata": {},
   "outputs": [],
   "source": [
    "dfs['Tarjeta_de_crédito'] = dfs['Tarjeta_de_crédito'].fillna(dfs['Visa'])\n",
    "dfs['Tarjeta_de_crédito'] = dfs['Tarjeta_de_crédito'].fillna(dfs['MasterCard'])\n",
    "dfs['Tarjeta_de_crédito'] = dfs['Tarjeta_de_crédito'].fillna(dfs['Diners'])\n",
    "dfs['Tarjeta_de_crédito'] = dfs['Tarjeta_de_crédito'].fillna(dfs['American_Express'])\n",
    "dfs['Tarjeta_de_crédito'] = dfs['Tarjeta_de_crédito'].fillna(dfs['Visa'])"
   ]
  },
  {
   "cell_type": "code",
   "execution_count": 20,
   "id": "630718ad-64e0-4aeb-9676-4ad94902d565",
   "metadata": {},
   "outputs": [
    {
     "data": {
      "text/plain": [
       "True    25928\n",
       "Name: Tarjeta_de_crédito, dtype: int64"
      ]
     },
     "execution_count": 20,
     "metadata": {},
     "output_type": "execute_result"
    }
   ],
   "source": [
    "dfs['Tarjeta_de_crédito'].value_counts()"
   ]
  },
  {
   "cell_type": "code",
   "execution_count": 21,
   "id": "64b76a72-49f2-4d27-80bf-04c2f954dd86",
   "metadata": {},
   "outputs": [],
   "source": [
    "dfs = dfs.rename(columns = {'Tarjeta_de_crédito':'Aceptan_Tarjeta'})"
   ]
  },
  {
   "cell_type": "code",
   "execution_count": 22,
   "id": "797236e6-f870-47f7-bb5a-486d9aa48dca",
   "metadata": {},
   "outputs": [],
   "source": [
    "# Drop used columns\n",
    "dfs = dfs.drop(columns=['MercadoPago', 'Mastercard_Maestro', 'Visa_Electron'])\n",
    "dfs = dfs.drop(columns=['Visa', 'MasterCard', 'Diners', 'American_Express'])"
   ]
  },
  {
   "cell_type": "code",
   "execution_count": 23,
   "id": "fb75136e-469f-42e3-be66-18e8b2c25051",
   "metadata": {},
   "outputs": [],
   "source": [
    "# Treat columns to access data\n",
    "def try_join(l):\n",
    "    try:\n",
    "        return ','.join(map(str, l))\n",
    "    except TypeError:\n",
    "        return np.nan\n",
    "\n",
    "dfs['sub_status'] = try_join(dfs['sub_status'])\n",
    "dfs['tags'] = try_join(dfs['tags'])"
   ]
  },
  {
   "cell_type": "code",
   "execution_count": 24,
   "id": "8b4faf34-6bde-4ea2-bb2f-6fa2a30706c1",
   "metadata": {},
   "outputs": [
    {
     "data": {
      "text/plain": [
       "Index(['title', 'condition', 'warranty', 'initial_quantity',\n",
       "       'available_quantity', 'sold_quantity', 'sub_status', 'buying_mode',\n",
       "       'original_price', 'base_price', 'price', 'currency_id',\n",
       "       'seller_country', 'seller_state', 'seller_city', 'Giro_postal',\n",
       "       'free_shipping', 'local_pick_up', 'mode', 'tags', 'tag',\n",
       "       'Contra_reembolso', 'Acordar_con_el_comprador', 'Cheque_certificado',\n",
       "       'Efectivo', 'Transferencia_bancaria', 'Aceptan_Tarjeta', 'status',\n",
       "       'automatic_relist', 'accepts_mercadopago', 'id', 'descr_id', 'deal_ids',\n",
       "       'parent_item_id', 'category_id', 'seller_id', 'official_store_id',\n",
       "       'video_id', 'date_created', 'start_time', 'last_updated', 'stop_time'],\n",
       "      dtype='object')"
      ]
     },
     "execution_count": 24,
     "metadata": {},
     "output_type": "execute_result"
    }
   ],
   "source": [
    "dfs.columns"
   ]
  },
  {
   "cell_type": "code",
   "execution_count": 25,
   "id": "33ece06c-b084-401d-b8e0-f342f3c35761",
   "metadata": {
    "tags": []
   },
   "outputs": [
    {
     "name": "stdout",
     "output_type": "stream",
     "text": [
      "<class 'pandas.core.frame.DataFrame'>\n",
      "RangeIndex: 100000 entries, 0 to 99999\n",
      "Data columns (total 42 columns):\n",
      " #   Column                    Non-Null Count   Dtype         \n",
      "---  ------                    --------------   -----         \n",
      " 0   title                     100000 non-null  object        \n",
      " 1   condition                 100000 non-null  object        \n",
      " 2   warranty                  39103 non-null   object        \n",
      " 3   initial_quantity          100000 non-null  int64         \n",
      " 4   available_quantity        100000 non-null  int64         \n",
      " 5   sold_quantity             16920 non-null   float64       \n",
      " 6   sub_status                100000 non-null  object        \n",
      " 7   buying_mode               100000 non-null  object        \n",
      " 8   original_price            143 non-null     float64       \n",
      " 9   base_price                100000 non-null  float64       \n",
      " 10  price                     100000 non-null  float64       \n",
      " 11  currency_id               100000 non-null  object        \n",
      " 12  seller_country            99997 non-null   object        \n",
      " 13  seller_state              99997 non-null   object        \n",
      " 14  seller_city               99996 non-null   object        \n",
      " 15  Giro_postal               1665 non-null    object        \n",
      " 16  free_shipping             3016 non-null    object        \n",
      " 17  local_pick_up             79561 non-null   object        \n",
      " 18  mode                      100000 non-null  object        \n",
      " 19  tags                      100000 non-null  object        \n",
      " 20  tag                       75090 non-null   object        \n",
      " 21  Contra_reembolso          648 non-null     object        \n",
      " 22  Acordar_con_el_comprador  7991 non-null    object        \n",
      " 23  Cheque_certificado        460 non-null     object        \n",
      " 24  Efectivo                  67059 non-null   object        \n",
      " 25  Transferencia_bancaria    51469 non-null   object        \n",
      " 26  Aceptan_Tarjeta           25928 non-null   object        \n",
      " 27  status                    100000 non-null  object        \n",
      " 28  automatic_relist          4697 non-null    object        \n",
      " 29  accepts_mercadopago       97781 non-null   object        \n",
      " 30  id                        100000 non-null  object        \n",
      " 31  descr_id                  41 non-null      object        \n",
      " 32  deal_ids                  240 non-null     object        \n",
      " 33  parent_item_id            76989 non-null   object        \n",
      " 34  category_id               100000 non-null  object        \n",
      " 35  seller_id                 100000 non-null  int64         \n",
      " 36  official_store_id         818 non-null     float64       \n",
      " 37  video_id                  2985 non-null    object        \n",
      " 38  date_created              100000 non-null  object        \n",
      " 39  start_time                100000 non-null  datetime64[ns]\n",
      " 40  last_updated              100000 non-null  object        \n",
      " 41  stop_time                 100000 non-null  datetime64[ns]\n",
      "dtypes: datetime64[ns](2), float64(5), int64(3), object(32)\n",
      "memory usage: 32.0+ MB\n"
     ]
    }
   ],
   "source": [
    "dfs.info()"
   ]
  },
  {
   "cell_type": "code",
   "execution_count": 26,
   "id": "fbacc6b4-243f-4621-9574-9fba258ab38a",
   "metadata": {},
   "outputs": [],
   "source": [
    "# Transform some columns to boolean type\n",
    "dfs[['Giro_postal', 'free_shipping', 'local_pick_up', 'Contra_reembolso', \n",
    "     'Acordar_con_el_comprador', 'Cheque_certificado', 'Efectivo', \n",
    "     'Transferencia_bancaria', 'Aceptan_Tarjeta', 'automatic_relist']] = dfs[['Giro_postal', 'free_shipping', 'local_pick_up', 'Contra_reembolso', \n",
    "                                                          'Acordar_con_el_comprador', 'Cheque_certificado', 'Efectivo', \n",
    "                                                          'Transferencia_bancaria', 'Aceptan_Tarjeta', 'automatic_relist']].notna()"
   ]
  },
  {
   "cell_type": "code",
   "execution_count": 27,
   "id": "e8a90333-6fcf-4e12-913e-1ab62102d298",
   "metadata": {
    "tags": []
   },
   "outputs": [],
   "source": [
    "# Transform type of all columns\n",
    "dfs = dfs.astype({'title':'str',\n",
    "                  'condition': 'category', #bool\n",
    "                  'warranty': 'category',\n",
    "                  'initial_quantity': 'float', #int\n",
    "                  'available_quantity': 'float', #int\n",
    "                  'sold_quantity': 'float', #int\n",
    "                  'sub_status': 'category', #bool?\n",
    "                  'buying_mode': 'category',\n",
    "                  'original_price': 'float',\n",
    "                  'base_price': 'float',\n",
    "                  'price': 'float',\n",
    "                  'currency_id': 'category',\n",
    "                  'seller_country': 'category',\n",
    "                  'seller_state': 'category',\n",
    "                  'seller_city': 'category',\n",
    "                  'Giro_postal': 'bool',\n",
    "                  'free_shipping': 'bool',\n",
    "                  'local_pick_up': 'bool',\n",
    "                  'mode': 'category',\n",
    "                  'tags': 'category', #bool?\n",
    "                  #'tag': 'category',\n",
    "                  'Contra_reembolso': 'bool',\n",
    "                  'Acordar_con_el_comprador': 'bool',\n",
    "                  'Cheque_certificado': 'bool',\n",
    "                  'Efectivo': 'bool',\n",
    "                  'Transferencia_bancaria': 'bool',\n",
    "                  'Aceptan_Tarjeta': 'bool',\n",
    "                  'id': 'category',\n",
    "                  'descr_id': 'category',\n",
    "                  #'deal_ids': 'category',\n",
    "                  'parent_item_id': 'category',\n",
    "                  'category_id': 'category',\n",
    "                  'seller_id': 'category',\n",
    "                  'official_store_id': 'category',\n",
    "                  'video_id': 'category',\n",
    "                  #'date_created': 'datetime',\n",
    "                  # 'start_time': 'datetime',\n",
    "                  # 'last_updated': 'datetime',\n",
    "                  # 'stop_time': 'datetime',\n",
    "                  'status': 'category', #bool?\n",
    "                  'automatic_relist': 'bool'\n",
    "                                         })"
   ]
  },
  {
   "cell_type": "code",
   "execution_count": 28,
   "id": "c2d21aa3-7d08-45fd-9553-eb1caff4ecf0",
   "metadata": {},
   "outputs": [
    {
     "data": {
      "text/plain": [
       "Index(['title', 'condition', 'warranty', 'initial_quantity',\n",
       "       'available_quantity', 'sold_quantity', 'sub_status', 'buying_mode',\n",
       "       'original_price', 'base_price', 'price', 'currency_id',\n",
       "       'seller_country', 'seller_state', 'seller_city', 'Giro_postal',\n",
       "       'free_shipping', 'local_pick_up', 'mode', 'tags', 'tag',\n",
       "       'Contra_reembolso', 'Acordar_con_el_comprador', 'Cheque_certificado',\n",
       "       'Efectivo', 'Transferencia_bancaria', 'Aceptan_Tarjeta', 'status',\n",
       "       'automatic_relist', 'accepts_mercadopago', 'id', 'descr_id', 'deal_ids',\n",
       "       'parent_item_id', 'category_id', 'seller_id', 'official_store_id',\n",
       "       'video_id', 'date_created', 'start_time', 'last_updated', 'stop_time'],\n",
       "      dtype='object')"
      ]
     },
     "execution_count": 28,
     "metadata": {},
     "output_type": "execute_result"
    }
   ],
   "source": [
    "dfs.columns"
   ]
  },
  {
   "cell_type": "code",
   "execution_count": 29,
   "id": "8c10307b-5423-4932-9648-bf55e4ab84f0",
   "metadata": {},
   "outputs": [
    {
     "name": "stdout",
     "output_type": "stream",
     "text": [
      "Your selected dataframe has 42 columns and 100000 Rows.\n",
      "There are 13 columns that have missing values.\n"
     ]
    },
    {
     "data": {
      "text/html": [
       "<div>\n",
       "<style scoped>\n",
       "    .dataframe tbody tr th:only-of-type {\n",
       "        vertical-align: middle;\n",
       "    }\n",
       "\n",
       "    .dataframe tbody tr th {\n",
       "        vertical-align: top;\n",
       "    }\n",
       "\n",
       "    .dataframe thead th {\n",
       "        text-align: right;\n",
       "    }\n",
       "</style>\n",
       "<table border=\"1\" class=\"dataframe\">\n",
       "  <thead>\n",
       "    <tr style=\"text-align: right;\">\n",
       "      <th></th>\n",
       "      <th>Zero Values</th>\n",
       "      <th>Missing Values</th>\n",
       "      <th>% of Total Values</th>\n",
       "      <th>Total Zero Missing Values</th>\n",
       "      <th>% Total Zero Missing Values</th>\n",
       "      <th>Data Type</th>\n",
       "    </tr>\n",
       "  </thead>\n",
       "  <tbody>\n",
       "    <tr>\n",
       "      <th>descr_id</th>\n",
       "      <td>0</td>\n",
       "      <td>99959</td>\n",
       "      <td>100.0</td>\n",
       "      <td>99959</td>\n",
       "      <td>100.0</td>\n",
       "      <td>category</td>\n",
       "    </tr>\n",
       "    <tr>\n",
       "      <th>original_price</th>\n",
       "      <td>0</td>\n",
       "      <td>99857</td>\n",
       "      <td>99.9</td>\n",
       "      <td>99857</td>\n",
       "      <td>99.9</td>\n",
       "      <td>float64</td>\n",
       "    </tr>\n",
       "    <tr>\n",
       "      <th>deal_ids</th>\n",
       "      <td>0</td>\n",
       "      <td>99760</td>\n",
       "      <td>99.8</td>\n",
       "      <td>99760</td>\n",
       "      <td>99.8</td>\n",
       "      <td>object</td>\n",
       "    </tr>\n",
       "    <tr>\n",
       "      <th>official_store_id</th>\n",
       "      <td>0</td>\n",
       "      <td>99182</td>\n",
       "      <td>99.2</td>\n",
       "      <td>99182</td>\n",
       "      <td>99.2</td>\n",
       "      <td>category</td>\n",
       "    </tr>\n",
       "    <tr>\n",
       "      <th>video_id</th>\n",
       "      <td>0</td>\n",
       "      <td>97015</td>\n",
       "      <td>97.0</td>\n",
       "      <td>97015</td>\n",
       "      <td>97.0</td>\n",
       "      <td>category</td>\n",
       "    </tr>\n",
       "    <tr>\n",
       "      <th>sold_quantity</th>\n",
       "      <td>0</td>\n",
       "      <td>83080</td>\n",
       "      <td>83.1</td>\n",
       "      <td>83080</td>\n",
       "      <td>83.1</td>\n",
       "      <td>float64</td>\n",
       "    </tr>\n",
       "    <tr>\n",
       "      <th>warranty</th>\n",
       "      <td>0</td>\n",
       "      <td>60897</td>\n",
       "      <td>60.9</td>\n",
       "      <td>60897</td>\n",
       "      <td>60.9</td>\n",
       "      <td>category</td>\n",
       "    </tr>\n",
       "    <tr>\n",
       "      <th>tag</th>\n",
       "      <td>0</td>\n",
       "      <td>24910</td>\n",
       "      <td>24.9</td>\n",
       "      <td>24910</td>\n",
       "      <td>24.9</td>\n",
       "      <td>object</td>\n",
       "    </tr>\n",
       "    <tr>\n",
       "      <th>parent_item_id</th>\n",
       "      <td>0</td>\n",
       "      <td>23011</td>\n",
       "      <td>23.0</td>\n",
       "      <td>23011</td>\n",
       "      <td>23.0</td>\n",
       "      <td>category</td>\n",
       "    </tr>\n",
       "    <tr>\n",
       "      <th>accepts_mercadopago</th>\n",
       "      <td>0</td>\n",
       "      <td>2219</td>\n",
       "      <td>2.2</td>\n",
       "      <td>2219</td>\n",
       "      <td>2.2</td>\n",
       "      <td>object</td>\n",
       "    </tr>\n",
       "    <tr>\n",
       "      <th>seller_city</th>\n",
       "      <td>0</td>\n",
       "      <td>4</td>\n",
       "      <td>0.0</td>\n",
       "      <td>4</td>\n",
       "      <td>0.0</td>\n",
       "      <td>category</td>\n",
       "    </tr>\n",
       "    <tr>\n",
       "      <th>seller_country</th>\n",
       "      <td>0</td>\n",
       "      <td>3</td>\n",
       "      <td>0.0</td>\n",
       "      <td>3</td>\n",
       "      <td>0.0</td>\n",
       "      <td>category</td>\n",
       "    </tr>\n",
       "    <tr>\n",
       "      <th>seller_state</th>\n",
       "      <td>0</td>\n",
       "      <td>3</td>\n",
       "      <td>0.0</td>\n",
       "      <td>3</td>\n",
       "      <td>0.0</td>\n",
       "      <td>category</td>\n",
       "    </tr>\n",
       "  </tbody>\n",
       "</table>\n",
       "</div>"
      ],
      "text/plain": [
       "                     Zero Values  Missing Values  % of Total Values  \\\n",
       "descr_id                       0           99959              100.0   \n",
       "original_price                 0           99857               99.9   \n",
       "deal_ids                       0           99760               99.8   \n",
       "official_store_id              0           99182               99.2   \n",
       "video_id                       0           97015               97.0   \n",
       "sold_quantity                  0           83080               83.1   \n",
       "warranty                       0           60897               60.9   \n",
       "tag                            0           24910               24.9   \n",
       "parent_item_id                 0           23011               23.0   \n",
       "accepts_mercadopago            0            2219                2.2   \n",
       "seller_city                    0               4                0.0   \n",
       "seller_country                 0               3                0.0   \n",
       "seller_state                   0               3                0.0   \n",
       "\n",
       "                     Total Zero Missing Values  % Total Zero Missing Values  \\\n",
       "descr_id                                 99959                        100.0   \n",
       "original_price                           99857                         99.9   \n",
       "deal_ids                                 99760                         99.8   \n",
       "official_store_id                        99182                         99.2   \n",
       "video_id                                 97015                         97.0   \n",
       "sold_quantity                            83080                         83.1   \n",
       "warranty                                 60897                         60.9   \n",
       "tag                                      24910                         24.9   \n",
       "parent_item_id                           23011                         23.0   \n",
       "accepts_mercadopago                       2219                          2.2   \n",
       "seller_city                                  4                          0.0   \n",
       "seller_country                               3                          0.0   \n",
       "seller_state                                 3                          0.0   \n",
       "\n",
       "                    Data Type  \n",
       "descr_id             category  \n",
       "original_price        float64  \n",
       "deal_ids               object  \n",
       "official_store_id    category  \n",
       "video_id             category  \n",
       "sold_quantity         float64  \n",
       "warranty             category  \n",
       "tag                    object  \n",
       "parent_item_id       category  \n",
       "accepts_mercadopago    object  \n",
       "seller_city          category  \n",
       "seller_country       category  \n",
       "seller_state         category  "
      ]
     },
     "execution_count": 29,
     "metadata": {},
     "output_type": "execute_result"
    }
   ],
   "source": [
    "# Check missing values\n",
    "\n",
    "def missing_zero_values_table(df):\n",
    "        zero_val = (df == 0.00).astype(int).sum(axis=0)\n",
    "        mis_val = df.isnull().sum()\n",
    "        mis_val_percent = 100 * df.isnull().sum() / len(df)\n",
    "        mz_table = pd.concat([zero_val, mis_val, mis_val_percent], axis=1)\n",
    "        mz_table = mz_table.rename(\n",
    "        columns = {0 : 'Zero Values', 1 : 'Missing Values', 2 : '% of Total Values'})\n",
    "        mz_table['Total Zero Missing Values'] = mz_table['Zero Values'] + mz_table['Missing Values']\n",
    "        mz_table['% Total Zero Missing Values'] = 100 * mz_table['Total Zero Missing Values'] / len(df)\n",
    "        mz_table['Data Type'] = df.dtypes\n",
    "        mz_table = mz_table[\n",
    "            mz_table.iloc[:,1] != 0].sort_values(\n",
    "        '% of Total Values', ascending=False).round(1)\n",
    "        print (\"Your selected dataframe has \" + str(df.shape[1]) + \" columns and \" + str(df.shape[0]) + \" Rows.\\n\"      \n",
    "            \"There are \" + str(mz_table.shape[0]) +\n",
    "              \" columns that have missing values.\")\n",
    "#         mz_table.to_excel('D:/sampledata/missing_and_zero_values.xlsx', freeze_panes=(1,0), index = False)\n",
    "        return mz_table\n",
    "\n",
    "missing_zero_values_table(dfs)"
   ]
  },
  {
   "cell_type": "code",
   "execution_count": 30,
   "id": "cb187f1d-168b-478a-93ca-1d937090a67f",
   "metadata": {
    "tags": []
   },
   "outputs": [
    {
     "data": {
      "text/plain": [
       "Argentina    99997\n",
       "Name: seller_country, dtype: int64"
      ]
     },
     "metadata": {},
     "output_type": "display_data"
    },
    {
     "data": {
      "text/plain": [
       "'CABA'"
      ]
     },
     "metadata": {},
     "output_type": "display_data"
    },
    {
     "data": {
      "text/plain": [
       "'Capital Federal'"
      ]
     },
     "metadata": {},
     "output_type": "display_data"
    }
   ],
   "source": [
    "display(dfs['seller_country'].value_counts())\n",
    "dfs = dfs.drop(columns = 'seller_country') # We can drop Country column, it's always Argentina\n",
    "display(dfs['seller_city'].mode()[0])\n",
    "display(dfs['seller_state'].mode()[0])\n",
    "dfs['seller_city'] = dfs['seller_city'].fillna(dfs['seller_city'].mode()[0])\n",
    "dfs['seller_state'] = dfs['seller_state'].fillna(dfs['seller_state'].mode()[0])"
   ]
  },
  {
   "cell_type": "code",
   "execution_count": 31,
   "id": "f5bd0d17-0c91-4bcd-bf16-1bd3433bf488",
   "metadata": {},
   "outputs": [],
   "source": [
    "dfs['accepts_mercadopago'] = dfs['accepts_mercadopago'].fillna(False)\n",
    "dfs['sold_quantity'] = dfs['sold_quantity'].fillna(0) # Is it ok to fill sold_quantity with 0? [VALIDATE]"
   ]
  },
  {
   "cell_type": "code",
   "execution_count": 32,
   "id": "0628d890-be87-4a4d-b22f-805cabd14d55",
   "metadata": {},
   "outputs": [
    {
     "data": {
      "text/plain": [
       "60897"
      ]
     },
     "execution_count": 32,
     "metadata": {},
     "output_type": "execute_result"
    }
   ],
   "source": [
    "dfs['warranty'] = dfs['warranty'].replace(r'^\\s*$', np.nan, regex=True)\n",
    "dfs['warranty'].isna().sum()"
   ]
  },
  {
   "cell_type": "code",
   "execution_count": 33,
   "id": "1a8efa55-636d-429e-8363-1cb9c54cf528",
   "metadata": {},
   "outputs": [],
   "source": [
    "import pandas as pd\n",
    "df_temp1 = dfs[dfs['warranty'].isnull()]\n",
    "df_temp1['warranty'] = False\n",
    "\n",
    "df_temp2 = dfs[~dfs['warranty'].isnull()]\n",
    "df_temp2['warranty'] = True\n",
    "\n",
    "frames = [df_temp1, df_temp2]\n",
    "dfs = pd.concat(frames)\n",
    "dfs = dfs.astype({'warranty':'bool'})"
   ]
  },
  {
   "cell_type": "code",
   "execution_count": 34,
   "id": "6c67d9dd-00ec-4e9c-8505-f083808cf212",
   "metadata": {},
   "outputs": [
    {
     "data": {
      "text/plain": [
       "False    60897\n",
       "True     39103\n",
       "Name: warranty, dtype: int64"
      ]
     },
     "execution_count": 34,
     "metadata": {},
     "output_type": "execute_result"
    }
   ],
   "source": [
    "dfs['warranty'].value_counts()"
   ]
  },
  {
   "cell_type": "code",
   "execution_count": 35,
   "id": "b627bf76-ebf1-465e-b6f7-dd4bab012dda",
   "metadata": {},
   "outputs": [
    {
     "data": {
      "text/plain": [
       "'number of sold_quantity'"
      ]
     },
     "metadata": {},
     "output_type": "display_data"
    },
    {
     "data": {
      "text/plain": [
       "317"
      ]
     },
     "metadata": {},
     "output_type": "display_data"
    }
   ],
   "source": [
    "display('number of sold_quantity', dfs.sold_quantity.nunique())"
   ]
  },
  {
   "cell_type": "code",
   "execution_count": 36,
   "id": "89860638-84c2-47a6-b69e-27761eccd4df",
   "metadata": {
    "tags": []
   },
   "outputs": [
    {
     "name": "stdout",
     "output_type": "stream",
     "text": [
      "{'condition': 2}\n",
      "{'sub_status': 1}\n",
      "{'buying_mode': 3}\n",
      "{'currency_id': 2}\n",
      "{'seller_state': 24}\n",
      "{'seller_city': 3655}\n",
      "{'mode': 4}\n",
      "{'tags': 1}\n",
      "{'status': 4}\n",
      "{'id': 100000}\n",
      "{'descr_id': 41}\n",
      "{'parent_item_id': 76989}\n",
      "{'category_id': 10907}\n",
      "{'seller_id': 35915}\n",
      "{'official_store_id': 198}\n",
      "{'video_id': 2077}\n",
      "{}\n"
     ]
    }
   ],
   "source": [
    "def get_value_per_cat():\n",
    "    flag = dfs.select_dtypes(include=['category']).shape[1]\n",
    "    i = 0\n",
    "\n",
    "    while i <= flag:\n",
    "        print(dict(dfs.select_dtypes(include=['category']).iloc[:,i:i+1].nunique()))\n",
    "        i = i+1\n",
    "\n",
    "get_value_per_cat()"
   ]
  },
  {
   "cell_type": "code",
   "execution_count": 37,
   "id": "eff252b2-0ba4-4ae3-8590-998bdb367d60",
   "metadata": {},
   "outputs": [
    {
     "data": {
      "text/plain": [
       "Index(['title', 'condition', 'warranty', 'initial_quantity',\n",
       "       'available_quantity', 'sold_quantity', 'sub_status', 'buying_mode',\n",
       "       'original_price', 'base_price', 'price', 'currency_id', 'seller_state',\n",
       "       'seller_city', 'Giro_postal', 'free_shipping', 'local_pick_up', 'mode',\n",
       "       'tags', 'tag', 'Contra_reembolso', 'Acordar_con_el_comprador',\n",
       "       'Cheque_certificado', 'Efectivo', 'Transferencia_bancaria',\n",
       "       'Aceptan_Tarjeta', 'status', 'automatic_relist', 'accepts_mercadopago',\n",
       "       'id', 'descr_id', 'deal_ids', 'parent_item_id', 'category_id',\n",
       "       'seller_id', 'official_store_id', 'video_id', 'date_created',\n",
       "       'start_time', 'last_updated', 'stop_time'],\n",
       "      dtype='object')"
      ]
     },
     "execution_count": 37,
     "metadata": {},
     "output_type": "execute_result"
    }
   ],
   "source": [
    "dfs.columns"
   ]
  },
  {
   "cell_type": "code",
   "execution_count": 38,
   "id": "61d1a3aa-af19-4cdb-8337-bbf7a420185b",
   "metadata": {},
   "outputs": [
    {
     "data": {
      "text/plain": [
       "966"
      ]
     },
     "metadata": {},
     "output_type": "display_data"
    },
    {
     "data": {
      "text/plain": [
       "100000    1\n",
       "Name: sub_status, dtype: int64"
      ]
     },
     "metadata": {},
     "output_type": "display_data"
    },
    {
     "data": {
      "text/plain": [
       "(100000, 41)"
      ]
     },
     "metadata": {},
     "output_type": "display_data"
    }
   ],
   "source": [
    "import re\n",
    "dfs['sub_status'] = dfs['sub_status'].str.replace('nan,','')\n",
    "dfs['sub_status'] = dfs['sub_status'].str.replace(',nan','')\n",
    "display(len(re.findall(r'suspended',dfs['sub_status'][1])))\n",
    "display(dfs['sub_status'].value_counts().value_counts())\n",
    "display(dfs.shape)\n",
    "\n",
    "# We concluded this column is useless: every row has the same count of the same value ('suspended')\n",
    "dfs = dfs.drop('sub_status', axis=1)"
   ]
  },
  {
   "cell_type": "code",
   "execution_count": 39,
   "id": "d1b3401b-1b64-43c9-aedc-30f417c8b9f8",
   "metadata": {
    "tags": []
   },
   "outputs": [],
   "source": [
    "# dfs['tags'] = dfs['tags'].str.replace('nan,','')\n",
    "# dfs['tags'] = dfs['tags'].str.replace(',nan','')\n",
    "\n",
    "# from ast import literal_eval\n",
    "# dfs['tags'] = dfs['tags'].apply(lambda x: literal_eval(str(x)))\n",
    "\n",
    "# def deduplicate(column):\n",
    "#     flag = len(column)\n",
    "#     i = 0\n",
    "    \n",
    "#     while i <= flag:\n",
    "#         try:\n",
    "#             # 1. Convert into list of tuples\n",
    "#             tpls = [tuple(x) for x in column[i]]\n",
    "#             # 2. Create dictionary with empty values and\n",
    "#             # 3. convert back to a list (dups removed)\n",
    "#             dct = list(dict.fromkeys(tpls))\n",
    "#             # 4. Convert list of tuples to list of lists\n",
    "#             dup_free = [list(x) for x in lst]\n",
    "#             # Print everything\n",
    "#             column[i] = list(map(''.join, dup_free))\n",
    "#             # [[1, 1], [0, 1], [0, 1], [1, 1]]\n",
    "#             i = i+1\n",
    "#         except:\n",
    "#             return\n",
    "        \n",
    "# deduplicate(dfs['tags'])\n",
    "# display(dfs['tags'].value_counts().value_counts())\n",
    "# display(dfs.shape)\n",
    "# display(dfs['tag'].value_counts().value_counts())\n",
    "\n",
    "# Other useless colums -- all rows have the same values\n",
    "dfs = dfs.drop('tags', axis=1)\n",
    "dfs = dfs.drop('tag', axis=1)        "
   ]
  },
  {
   "cell_type": "code",
   "execution_count": 40,
   "id": "4ea25320-aabd-4c7e-8865-2854228a4b24",
   "metadata": {},
   "outputs": [
    {
     "data": {
      "text/plain": [
       "'dataframe shape'"
      ]
     },
     "metadata": {},
     "output_type": "display_data"
    },
    {
     "data": {
      "text/plain": [
       "(100000, 38)"
      ]
     },
     "metadata": {},
     "output_type": "display_data"
    },
    {
     "data": {
      "text/plain": [
       "'unique ids'"
      ]
     },
     "metadata": {},
     "output_type": "display_data"
    },
    {
     "data": {
      "text/plain": [
       "100000"
      ]
     },
     "metadata": {},
     "output_type": "display_data"
    },
    {
     "data": {
      "text/plain": [
       "'number of sellers'"
      ]
     },
     "metadata": {},
     "output_type": "display_data"
    },
    {
     "data": {
      "text/plain": [
       "35915"
      ]
     },
     "metadata": {},
     "output_type": "display_data"
    },
    {
     "data": {
      "text/plain": [
       "'number of categories'"
      ]
     },
     "metadata": {},
     "output_type": "display_data"
    },
    {
     "data": {
      "text/plain": [
       "10907"
      ]
     },
     "metadata": {},
     "output_type": "display_data"
    }
   ],
   "source": [
    "display('dataframe shape', dfs.shape)\n",
    "display('unique ids', dfs.id.nunique())\n",
    "display('number of sellers', dfs.seller_id.nunique())\n",
    "display('number of categories', dfs.category_id.nunique())\n",
    "\n",
    "#Drop useless column\n",
    "dfs = dfs.drop(['id'], axis=1)"
   ]
  },
  {
   "cell_type": "code",
   "execution_count": 41,
   "id": "b0c0e072-31e2-40ea-94b5-49714d624b3b",
   "metadata": {},
   "outputs": [
    {
     "name": "stdout",
     "output_type": "stream",
     "text": [
      "Your selected dataframe has 37 columns and 100000 Rows.\n",
      "There are 6 columns that have missing values.\n"
     ]
    },
    {
     "data": {
      "text/html": [
       "<div>\n",
       "<style scoped>\n",
       "    .dataframe tbody tr th:only-of-type {\n",
       "        vertical-align: middle;\n",
       "    }\n",
       "\n",
       "    .dataframe tbody tr th {\n",
       "        vertical-align: top;\n",
       "    }\n",
       "\n",
       "    .dataframe thead th {\n",
       "        text-align: right;\n",
       "    }\n",
       "</style>\n",
       "<table border=\"1\" class=\"dataframe\">\n",
       "  <thead>\n",
       "    <tr style=\"text-align: right;\">\n",
       "      <th></th>\n",
       "      <th>Zero Values</th>\n",
       "      <th>Missing Values</th>\n",
       "      <th>% of Total Values</th>\n",
       "      <th>Total Zero Missing Values</th>\n",
       "      <th>% Total Zero Missing Values</th>\n",
       "      <th>Data Type</th>\n",
       "    </tr>\n",
       "  </thead>\n",
       "  <tbody>\n",
       "    <tr>\n",
       "      <th>descr_id</th>\n",
       "      <td>0</td>\n",
       "      <td>99959</td>\n",
       "      <td>100.0</td>\n",
       "      <td>99959</td>\n",
       "      <td>100.0</td>\n",
       "      <td>category</td>\n",
       "    </tr>\n",
       "    <tr>\n",
       "      <th>original_price</th>\n",
       "      <td>0</td>\n",
       "      <td>99857</td>\n",
       "      <td>99.9</td>\n",
       "      <td>99857</td>\n",
       "      <td>99.9</td>\n",
       "      <td>float64</td>\n",
       "    </tr>\n",
       "    <tr>\n",
       "      <th>deal_ids</th>\n",
       "      <td>0</td>\n",
       "      <td>99760</td>\n",
       "      <td>99.8</td>\n",
       "      <td>99760</td>\n",
       "      <td>99.8</td>\n",
       "      <td>object</td>\n",
       "    </tr>\n",
       "    <tr>\n",
       "      <th>official_store_id</th>\n",
       "      <td>0</td>\n",
       "      <td>99182</td>\n",
       "      <td>99.2</td>\n",
       "      <td>99182</td>\n",
       "      <td>99.2</td>\n",
       "      <td>category</td>\n",
       "    </tr>\n",
       "    <tr>\n",
       "      <th>video_id</th>\n",
       "      <td>0</td>\n",
       "      <td>97015</td>\n",
       "      <td>97.0</td>\n",
       "      <td>97015</td>\n",
       "      <td>97.0</td>\n",
       "      <td>category</td>\n",
       "    </tr>\n",
       "    <tr>\n",
       "      <th>parent_item_id</th>\n",
       "      <td>0</td>\n",
       "      <td>23011</td>\n",
       "      <td>23.0</td>\n",
       "      <td>23011</td>\n",
       "      <td>23.0</td>\n",
       "      <td>category</td>\n",
       "    </tr>\n",
       "  </tbody>\n",
       "</table>\n",
       "</div>"
      ],
      "text/plain": [
       "                   Zero Values  Missing Values  % of Total Values  \\\n",
       "descr_id                     0           99959              100.0   \n",
       "original_price               0           99857               99.9   \n",
       "deal_ids                     0           99760               99.8   \n",
       "official_store_id            0           99182               99.2   \n",
       "video_id                     0           97015               97.0   \n",
       "parent_item_id               0           23011               23.0   \n",
       "\n",
       "                   Total Zero Missing Values  % Total Zero Missing Values  \\\n",
       "descr_id                               99959                        100.0   \n",
       "original_price                         99857                         99.9   \n",
       "deal_ids                               99760                         99.8   \n",
       "official_store_id                      99182                         99.2   \n",
       "video_id                               97015                         97.0   \n",
       "parent_item_id                         23011                         23.0   \n",
       "\n",
       "                  Data Type  \n",
       "descr_id           category  \n",
       "original_price      float64  \n",
       "deal_ids             object  \n",
       "official_store_id  category  \n",
       "video_id           category  \n",
       "parent_item_id     category  "
      ]
     },
     "execution_count": 41,
     "metadata": {},
     "output_type": "execute_result"
    }
   ],
   "source": [
    "missing_zero_values_table(dfs)"
   ]
  },
  {
   "cell_type": "code",
   "execution_count": 42,
   "id": "066b2d07-0345-41ae-aed0-a994d54349db",
   "metadata": {},
   "outputs": [],
   "source": [
    "dfs = dfs.dropna(axis=1) #drop all columns with missing values (we checked and they are not necessary)"
   ]
  },
  {
   "cell_type": "code",
   "execution_count": 43,
   "id": "003bc117-93f1-4b5e-9529-14f5444aaa10",
   "metadata": {},
   "outputs": [
    {
     "data": {
      "image/png": "[encoded data removed]",
      "text/plain": [
       "<Figure size 432x288 with 1 Axes>"
      ]
     },
     "metadata": {
      "needs_background": "light"
     },
     "output_type": "display_data"
    }
   ],
   "source": [
    "# Deal with datetimes to create new features\n",
    "dfs['year_start'] = pd.to_datetime(dfs['start_time']).dt.year.astype('category')\n",
    "dfs['month_start'] = pd.to_datetime(dfs['start_time']).dt.month.astype('category')\n",
    "dfs['year_stop'] = pd.to_datetime(dfs['stop_time']).dt.year.astype('category')\n",
    "dfs['month_stop'] = pd.to_datetime(dfs['stop_time']).dt.month.astype('category')\n",
    "dfs['week_day'] = pd.to_datetime(dfs['stop_time']).dt.weekday.astype('category')\n",
    "#dfs['days_active'] = (dfs['start_time'] - dfs['stop_time']).dt.days\n",
    "dfs['days_active'] = [int(i.days) for i in (dfs.stop_time - dfs.start_time)]\n",
    "dfs['days_active'] = dfs['days_active'].astype('int')\n",
    "dfs = dfs.reset_index(drop=True)\n",
    "\n",
    "#dfs = dfs.drop(['date_created', 'start_time', 'last_updated', 'stop_time'], axis=1)\n",
    "boxplot = dfs.boxplot(column=['days_active'], showfliers=False)"
   ]
  },
  {
   "cell_type": "markdown",
   "id": "5f9d8090-62ff-46fd-b7e2-60387dee9168",
   "metadata": {},
   "source": [
    "# Model: Embeddings Encoding + XGBoost"
   ]
  },
  {
   "cell_type": "code",
   "execution_count": 44,
   "id": "9c18a216-70e2-4d44-be42-f5ed15d95a49",
   "metadata": {},
   "outputs": [],
   "source": [
    "import pandas as pd\n",
    "import numpy as np\n",
    "from sklearn.compose import ColumnTransformer\n",
    "from sklearn.preprocessing import OneHotEncoder, StandardScaler, OrdinalEncoder\n",
    "from sklearn.pipeline import make_pipeline\n",
    "from sklearn.model_selection import train_test_split\n",
    "from sklearn.impute import SimpleImputer\n",
    "from sklearn.ensemble import RandomForestRegressor\n",
    "from sklearn.metrics import mean_squared_error, mean_absolute_percentage_error\n",
    "from sklearn.linear_model import LogisticRegression\n",
    "from sklearn.inspection import permutation_importance\n",
    "from sklearn.preprocessing import label_binarize\n",
    "from sklearn.model_selection import train_test_split\n",
    "from sklearn.pipeline import make_pipeline\n",
    "from sklearn.preprocessing import StandardScaler\n",
    "\n",
    "from embedding_encoder import EmbeddingEncoder\n",
    "from embedding_encoder.utils.compose import ColumnTransformerWithNames"
   ]
  },
  {
   "cell_type": "code",
   "execution_count": 45,
   "id": "8e2c6cb4-01d6-4808-bf07-16ff705adcc6",
   "metadata": {},
   "outputs": [],
   "source": [
    "#dfs = pd.read_parquet('cleaned_data_haha.parquet.gzip')"
   ]
  },
  {
   "cell_type": "code",
   "execution_count": 46,
   "id": "11bc91ed-092f-4a73-855d-88cf7a46607d",
   "metadata": {},
   "outputs": [
    {
     "data": {
      "text/plain": [
       "Index(['title', 'condition', 'warranty', 'initial_quantity',\n",
       "       'available_quantity', 'sold_quantity', 'buying_mode', 'base_price',\n",
       "       'price', 'currency_id', 'seller_state', 'seller_city', 'Giro_postal',\n",
       "       'free_shipping', 'local_pick_up', 'mode', 'Contra_reembolso',\n",
       "       'Acordar_con_el_comprador', 'Cheque_certificado', 'Efectivo',\n",
       "       'Transferencia_bancaria', 'Aceptan_Tarjeta', 'status',\n",
       "       'automatic_relist', 'accepts_mercadopago', 'category_id', 'seller_id',\n",
       "       'date_created', 'start_time', 'last_updated', 'stop_time', 'year_start',\n",
       "       'month_start', 'year_stop', 'month_stop', 'week_day', 'days_active'],\n",
       "      dtype='object')"
      ]
     },
     "execution_count": 46,
     "metadata": {},
     "output_type": "execute_result"
    }
   ],
   "source": [
    "dfs.columns"
   ]
  },
  {
   "cell_type": "code",
   "execution_count": 47,
   "id": "22eb1374-b8c6-4db8-87ee-90163dbdbf36",
   "metadata": {},
   "outputs": [
    {
     "data": {
      "text/plain": [
       "Index(['initial_quantity', 'available_quantity', 'sold_quantity', 'base_price',\n",
       "       'price', 'days_active'],\n",
       "      dtype='object')"
      ]
     },
     "execution_count": 47,
     "metadata": {},
     "output_type": "execute_result"
    }
   ],
   "source": [
    "dfs.select_dtypes(include=['int16', 'int32', 'int64', 'float16', 'float32', 'float64']).columns"
   ]
  },
  {
   "cell_type": "code",
   "execution_count": 48,
   "id": "e3fff3a5-4fc8-4291-8f83-e98d085f1654",
   "metadata": {},
   "outputs": [
    {
     "data": {
      "text/plain": [
       "Index(['condition', 'buying_mode', 'currency_id', 'seller_state',\n",
       "       'seller_city', 'mode', 'status', 'category_id', 'seller_id',\n",
       "       'year_start', 'month_start', 'year_stop', 'month_stop', 'week_day'],\n",
       "      dtype='object')"
      ]
     },
     "execution_count": 48,
     "metadata": {},
     "output_type": "execute_result"
    }
   ],
   "source": [
    "dfs.select_dtypes(include=['category']).columns"
   ]
  },
  {
   "cell_type": "code",
   "execution_count": 49,
   "id": "a13a75d3-f002-48ec-87b0-c01788a70750",
   "metadata": {},
   "outputs": [],
   "source": [
    "# Split train and test\n",
    "numerics = ['int16', 'int32', 'int64', 'float16', 'float32', 'float64', 'category', 'bool']\n",
    "\n",
    "X = dfs.select_dtypes(include=numerics).drop(columns=['condition'], axis=1)\n",
    "\n",
    "dfs['condition'] = dfs['condition'].replace('new', 0)\n",
    "dfs['condition'] = dfs['condition'].replace('used', 1)\n",
    "y = dfs.condition\n",
    "\n",
    "X_train, X_test, y_train, y_test = train_test_split(X, y, test_size=0.2)"
   ]
  },
  {
   "cell_type": "code",
   "execution_count": 50,
   "id": "3a008fb7-8825-4443-ab12-dcf2f9884f12",
   "metadata": {},
   "outputs": [],
   "source": [
    "from sklearn.ensemble import RandomForestClassifier, GradientBoostingClassifier\n",
    "import xgboost as xgb\n",
    "\n",
    "categorical_high = [\"seller_city\", \"category_id\"] # \"seller_id\"\n",
    "numeric = X.select_dtypes(include=['int16', 'int32', 'int64', 'float16', 'float32', 'float64']).columns#.drop(columns=['condition'], axis=1)\n",
    "categorical_low = [\"buying_mode\", \"currency_id\", \"seller_state\", \"mode\", \"status\", \"week_day\", \"month_stop\", \"year_stop\", \"month_start\", \"year_start\"] + list(X.select_dtypes(include=['bool']).columns)\n",
    "#categorical_low = [\"buying_mode\", \"currency_id\", \"seller_state\", \"mode\", \"status\", \"week_day\", \"month_stop\", \"month_start\"] + list(X.select_dtypes(include=['bool']).columns)\n",
    "#categorical_low = [\"buying_mode\", \"currency_id\", \"seller_state\", \"mode\", \"status\"] + list(X.select_dtypes(include=['bool']).columns)\n",
    "\n",
    "def build_pipeline(mode: str):\n",
    "    if mode == \"embeddings\":\n",
    "        high_cardinality_encoder = EmbeddingEncoder(task=\"classification\") #regression\n",
    "    else:\n",
    "        high_cardinality_encoder = OrdinalEncoder()\n",
    "    one_hot_encoder = OneHotEncoder(handle_unknown=\"ignore\")\n",
    "    scaler = StandardScaler()\n",
    "    imputer = ColumnTransformerWithNames([(\"numeric\", SimpleImputer(strategy=\"mean\"), numeric), (\"categorical\", SimpleImputer(strategy=\"most_frequent\"), categorical_low+categorical_high)])\n",
    "    processor = ColumnTransformer([(\"one_hot\", one_hot_encoder, categorical_low), (mode, high_cardinality_encoder, categorical_high), (\"scale\", scaler, numeric)])\n",
    "\n",
    "    return make_pipeline(imputer, processor, xgb.XGBClassifier(n_estimators= 200,\n",
    "                                                                 max_depth= 30,                         # Lower ratios avoid over-fitting. Default is 6.\n",
    "                                                                 objective = 'binary:logistic',         # Default is reg:squarederror. 'multi:softprob' for multiclass and get proba.  \n",
    "                                                                 #num_class = 2,                        # Use if softprob is set.\n",
    "                                                                 reg_lambda = 10,                       # Larger ratios avoid over-fitting. Default is 1.\n",
    "                                                                 gamma = 0.3,                           # Larger values avoid over-fitting. Default is 0. # Values from 0.3 to 0.8 if you have many columns (especially if you did one-hot encoding), or 0.8 to 1 if you only have a few columns.\n",
    "                                                                 alpha = 1,                             # Larger ratios avoid over-fitting. Default is 0.\n",
    "                                                                 learning_rate= 0.10,                   # Lower ratios avoid over-fitting. Default is 3.\n",
    "                                                                 colsample_bytree= 0.7,                 # Lower ratios avoid over-fitting.\n",
    "                                                                 scale_pos_weight = 1,                  # Default is 1. Control balance of positive and negative weights, for unbalanced classes.\n",
    "                                                                 subsample = 0.1,                       # Lower ratios avoid over-fitting. Default 1. 0.5 recommended. # 0.1 if using GPU.\n",
    "                                                                 min_child_weight = 3,                  # Larger ratios avoid over-fitting. Default is 1.\n",
    "                                                                 missing = np.nan,                      # Deal with missing values\n",
    "                                                                 num_parallel_tree = 2,                 # Parallel trees constructed during each iteration. Default is 1.\n",
    "                                                                 importance_type = 'weight',\n",
    "                                                                 eval_metric = 'auc',\n",
    "                                                                 #use_label_encoder = True,\n",
    "                                                                 #enable_categorical = True,\n",
    "                                                                 verbosity = 1,\n",
    "                                                                 nthread = -1,                          # Set -1 to use all threads.\n",
    "                                                                 #use_rmm = True,                       # Use GPU if available\n",
    "                                                                 tree_method = 'auto', # auto           # 'gpu_hist'. Default is auto: analyze the data and chooses the fastest.\n",
    "                                                                 #gradient_based = True,\n",
    "                                                                )) #RandomForestClassifier() #LogisticRegression())\n",
    "                "
   ]
  },
  {
   "cell_type": "code",
   "execution_count": 51,
   "id": "c6063605-5f5f-4ee1-a1c7-40739e1ab367",
   "metadata": {},
   "outputs": [
    {
     "name": "stderr",
     "output_type": "stream",
     "text": [
      "2022-07-19 15:35:20.872263: W tensorflow/stream_executor/platform/default/dso_loader.cc:64] Could not load dynamic library 'libcudart.so.11.0'; dlerror: libcudart.so.11.0: cannot open shared object file: No such file or directory\n",
      "2022-07-19 15:35:20.872321: I tensorflow/stream_executor/cuda/cudart_stub.cc:29] Ignore above cudart dlerror if you do not have a GPU set up on your machine.\n",
      "2022-07-19 15:35:23.074450: W tensorflow/stream_executor/platform/default/dso_loader.cc:64] Could not load dynamic library 'libcuda.so.1'; dlerror: libcuda.so.1: cannot open shared object file: No such file or directory\n",
      "2022-07-19 15:35:23.074487: W tensorflow/stream_executor/cuda/cuda_driver.cc:269] failed call to cuInit: UNKNOWN ERROR (303)\n",
      "2022-07-19 15:35:23.074515: I tensorflow/stream_executor/cuda/cuda_diagnostics.cc:156] kernel driver does not appear to be running on this host (brspobitanl1727): /proc/driver/nvidia/version does not exist\n",
      "2022-07-19 15:35:23.074705: I tensorflow/core/platform/cpu_feature_guard.cc:151] This TensorFlow binary is optimized with oneAPI Deep Neural Network Library (oneDNN) to use the following CPU instructions in performance-critical operations:  AVX2 FMA\n",
      "To enable them in other operations, rebuild TensorFlow with the appropriate compiler flags.\n",
      "/home/ggnicolau/miniconda3/envs/jupyter-1/lib/python3.10/site-packages/xgboost/sklearn.py:1224: UserWarning: The use of label encoder in XGBClassifier is deprecated and will be removed in a future release. To remove this warning, do the following: 1) Pass option use_label_encoder=False when constructing XGBClassifier object; and 2) Encode your labels (y) as integers starting with 0, i.e. 0, 1, 2, ..., [num_class - 1].\n",
      "  warnings.warn(label_encoder_deprecation_msg, UserWarning)\n"
     ]
    },
    {
     "name": "stdout",
     "output_type": "stream",
     "text": [
      "CPU times: user 15min 3s, sys: 8.37 s, total: 15min 11s\n",
      "Wall time: 2min 16s\n"
     ]
    }
   ],
   "source": [
    "%%time\n",
    "embeddings_pipeline = build_pipeline(\"embeddings\")\n",
    "embeddings_pipeline.fit(X_train, y_train)\n",
    "embedding_preds = embeddings_pipeline.predict_proba(X_test) "
   ]
  },
  {
   "cell_type": "code",
   "execution_count": 52,
   "id": "340e9b31-e131-4021-87a4-426dfd5cb397",
   "metadata": {},
   "outputs": [],
   "source": [
    "embedding_preds = embeddings_pipeline.predict_proba(X_test) "
   ]
  },
  {
   "cell_type": "code",
   "execution_count": 53,
   "id": "093b9bb7-e03b-4ad6-a81a-5ba3185ccab2",
   "metadata": {},
   "outputs": [
    {
     "data": {
      "image/png": "[encoded data removed]",
      "text/plain": [
       "<Figure size 432x288 with 1 Axes>"
      ]
     },
     "metadata": {
      "needs_background": "light"
     },
     "output_type": "display_data"
    },
    {
     "data": {
      "image/png": "[encoded data removed]",
      "text/plain": [
       "<Figure size 432x288 with 1 Axes>"
      ]
     },
     "metadata": {
      "needs_background": "light"
     },
     "output_type": "display_data"
    },
    {
     "data": {
      "image/png": "[encoded data removed]",
      "text/plain": [
       "<Figure size 432x288 with 1 Axes>"
      ]
     },
     "metadata": {
      "needs_background": "light"
     },
     "output_type": "display_data"
    },
    {
     "name": "stdout",
     "output_type": "stream",
     "text": [
      "CPU times: user 2.06 s, sys: 613 ms, total: 2.67 s\n",
      "Wall time: 1.83 s\n"
     ]
    }
   ],
   "source": [
    "%%time\n",
    "import matplotlib.pyplot as plt\n",
    "import seaborn as sns\n",
    "from sklearn.metrics import cohen_kappa_score, brier_score_loss \n",
    "from sklearn.metrics import matthews_corrcoef, mean_squared_error, log_loss\n",
    "from sklearn.metrics import f1_score, recall_score, precision_score\n",
    "from sklearn.metrics import roc_auc_score, roc_curve, auc\n",
    "\n",
    "# Plot F1-Score and Threshold\n",
    "from sklearn.metrics import f1_score\n",
    "\n",
    "threshold_list = np.linspace(0.05, 0.95, 200)\n",
    "\n",
    "f1_list = []\n",
    "for threshold in threshold_list:\n",
    "    pred_label = np.where(embedding_preds[:,1] < threshold, 0, 1)\n",
    "    f1 = f1_score(y_test, pred_label)\n",
    "    f1_list.append(f1)\n",
    "\n",
    "df_f1 = pd.DataFrame({'threshold':threshold_list, 'f1_score': f1_list})\n",
    "df_f1[df_f1['f1_score'] == max(df_f1['f1_score'])]\n",
    "bt = df_f1[df_f1['f1_score'] == max(df_f1['f1_score'])]['threshold'].values[0]\n",
    "f1 = df_f1[df_f1['f1_score'] == max(df_f1['f1_score'])]['f1_score'].values[0]\n",
    "title = \"Best Threshold: \" + str(round(bt, 2)) + \" w/ F-1: \" + str(round(f1, 2))\n",
    "sns.lineplot(data=df_f1, x='threshold', y='f1_score').set_title(title)\n",
    "plt.show()\n",
    "\n",
    "# Plot your Score and threshold\n",
    "threshold_list = np.linspace(0.05, 0.95, 200)\n",
    "\n",
    "score_list = []\n",
    "for threshold in threshold_list:\n",
    "    pred_label = np.where(embedding_preds[:,1] > threshold, 0, 1)\n",
    "    score = brier_score_loss(y_test, pred_label)\n",
    "    score_list.append(score)\n",
    "\n",
    "df_score = pd.DataFrame({'threshold':threshold_list, 'score_score': score_list})\n",
    "df_score[df_score['score_score'] == max(df_score['score_score'])]\n",
    "bt = df_score[df_score['score_score'] == max(df_score['score_score'])]['threshold'].values[0]\n",
    "score = df_score[df_score['score_score'] == max(df_score['score_score'])]['score_score'].values[0]\n",
    "title = \"Best Threshold: \" + str(round(bt, 2)) + \" w/ Brier: \" + str(round(score, 2))\n",
    "sns.lineplot(data=df_score, x='threshold', y='score_score').set_title(title)\n",
    "plt.show()\n",
    "\n",
    "from sklearn.metrics import roc_curve\n",
    "\n",
    "#Plot ROC_Curve\n",
    "fpr, tpr, thresholds = roc_curve(y_test, embedding_preds[:,1])\n",
    "roc = roc_auc_score(y_test, embedding_preds[:,1])\n",
    "plt.figure()\n",
    "lw = 2\n",
    "plt.plot(\n",
    "    fpr,\n",
    "    tpr,\n",
    "    color=\"darkorange\",\n",
    "    lw=lw,\n",
    "    label=f\"ROC curve (area ={'%.2f' % roc})\"# % roc_auc[\"micro\"],\n",
    ")\n",
    "\n",
    "plt.plot([0, 1], [0, 1], color=\"navy\", lw=lw, linestyle=\"--\")\n",
    "plt.xlim([0.0, 1.0])\n",
    "plt.ylim([0.0, 1.05])\n",
    "plt.xlabel(\"False Positive Rate\")\n",
    "plt.ylabel(\"True Positive Rate\")\n",
    "plt.title(\"Embeddings + XGBoost Condition Classifier\")\n",
    "plt.legend(loc=\"lower right\")\n",
    "plt.savefig('embe_xgboost_roc_curve.png', bbox_inches='tight', dpi = 300)\n",
    "plt.show()"
   ]
  },
  {
   "cell_type": "code",
   "execution_count": 54,
   "id": "ac434a3a-225d-4277-bf42-eeb9278a316f",
   "metadata": {},
   "outputs": [
    {
     "name": "stdout",
     "output_type": "stream",
     "text": [
      "mean_squared_error_test = 0.32138884980187493\n",
      "Roc_auc = 0.9316140416223828\n",
      "Brier_error = 0.10329079277697213\n",
      "Logloss_test = 0.33533914064784914\n"
     ]
    }
   ],
   "source": [
    "# best_preds_score = np.where(embedding_preds < bt, 0, 1) # Uncomment if you want to change threshold... Lower, because threshold calculated on Brier Loss and lower is better\n",
    "\n",
    "print(\"mean_squared_error_test = {}\".format(mean_squared_error(y_test, embedding_preds[:,1], squared=False)))\n",
    "print(\"Roc_auc = {}\".format(roc_auc_score(y_test, embedding_preds[:,1])))\n",
    "print(\"Brier_error = {}\".format(brier_score_loss(y_test, embedding_preds[:,1])))\n",
    "print(\"Logloss_test = {}\".format(log_loss(y_test, embedding_preds[:,1])))\n",
    "# print(\"Precision = {}\".format(precision_score(Y_test, preds_test[:,1])))\n",
    "# print(\"Recall = {}\".format(recall_score(Y_test, preds_test[:,1])))\n",
    "# print(\"F1 = {}\".format(f1_score(Y_test, preds_test[:,1])))\n",
    "# print(\"Kappa_score = {}\".format(cohen_kappa_score(Y_test, preds_test[:,1])))\n",
    "# print(\"Matthews_corrcoef = {}\".format(matthews_corrcoef(Y_test, preds_test[:,1])))"
   ]
  }
 ],
 "metadata": {
  "kernelspec": {
   "display_name": "Python 3 (ipykernel)",
   "language": "python",
   "name": "python3"
  },
  "language_info": {
   "codemirror_mode": {
    "name": "ipython",
    "version": 3
   },
   "file_extension": ".py",
   "mimetype": "text/x-python",
   "name": "python",
   "nbconvert_exporter": "python",
   "pygments_lexer": "ipython3",
   "version": "3.10.2"
  },
  "toc": {
   "base_numbering": 1,
   "nav_menu": {},
   "number_sections": true,
   "sideBar": true,
   "skip_h1_title": false,
   "title_cell": "Table of Contents",
   "title_sidebar": "Contents",
   "toc_cell": false,
   "toc_position": {},
   "toc_section_display": true,
   "toc_window_display": false
  }
 },
 "nbformat": 4,
 "nbformat_minor": 5
}
